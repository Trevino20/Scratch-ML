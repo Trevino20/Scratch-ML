{
 "cells": [
  {
   "cell_type": "code",
   "execution_count": 1,
   "id": "9a9a1feb",
   "metadata": {
    "execution": {
     "iopub.execute_input": "2023-07-05T14:34:35.221374Z",
     "iopub.status.busy": "2023-07-05T14:34:35.220689Z",
     "iopub.status.idle": "2023-07-05T14:34:36.799774Z",
     "shell.execute_reply": "2023-07-05T14:34:36.798553Z"
    },
    "papermill": {
     "duration": 1.593773,
     "end_time": "2023-07-05T14:34:36.802335",
     "exception": false,
     "start_time": "2023-07-05T14:34:35.208562",
     "status": "completed"
    },
    "tags": []
   },
   "outputs": [],
   "source": [
    "import numpy as np\n",
    "import matplotlib.pyplot as plt\n",
    "\n",
    "from sklearn.model_selection import train_test_split\n",
    "\n",
    "from sklearn.linear_model import LinearRegression,SGDRegressor\n",
    "\n",
    "from sklearn.preprocessing import PolynomialFeatures,StandardScaler\n",
    "\n",
    "from sklearn.metrics import r2_score\n",
    "\n",
    "from sklearn.pipeline import Pipeline"
   ]
  },
  {
   "cell_type": "markdown",
   "id": "df7c35d7",
   "metadata": {
    "papermill": {
     "duration": 0.007747,
     "end_time": "2023-07-05T14:34:36.818316",
     "exception": false,
     "start_time": "2023-07-05T14:34:36.810569",
     "status": "completed"
    },
    "tags": []
   },
   "source": [
    "Polynomial linear regression is an extension of linear regression that allows for modeling nonlinear relationships between the dependent variable and the independent variable(s) by introducing polynomial terms. It involves fitting a polynomial function to the data instead of a straight line.\n",
    "\n",
    "The equation for polynomial linear regression can be written as:\n",
    "\n",
    "y = β0 + β1x + β2x^2 + β3x^3 + ... + βnx^n + ε\n",
    "\n",
    "Where:\n",
    "- y represents the dependent variable (response variable).\n",
    "- x represents the independent variable (predictor variable).\n",
    "- β0, β1, β2, ..., βn represent the coefficients that determine the shape of the polynomial curve.\n",
    "- ε represents the error term.\n",
    "\n",
    "In polynomial linear regression, the degree of the polynomial determines the complexity of the curve that fits the data. For example, a polynomial of degree 2 would introduce a quadratic term (x^2), degree 3 would introduce a cubic term (x^3), and so on.\n",
    "\n",
    "The goal of polynomial linear regression is to estimate the values of the β coefficients that minimize the sum of squared differences between the observed values of y and the predicted values based on the polynomial model. This is typically done using the least squares method.\n",
    "\n",
    "By introducing higher-degree polynomial terms, polynomial linear regression can capture more complex patterns and nonlinear relationships between the variables. However, it's important to be cautious about overfitting, where the model becomes too complex and fits the noise in the data rather than the true underlying relationship. Regularization techniques or model selection methods can help address overfitting in polynomial regression.\n",
    "\n",
    "Polynomial linear regression is commonly used in various fields such as physics, engineering, and data analysis, where nonlinear relationships between variables are expected or observed."
   ]
  },
  {
   "cell_type": "markdown",
   "id": "abf95516",
   "metadata": {
    "papermill": {
     "duration": 0.007754,
     "end_time": "2023-07-05T14:34:36.834157",
     "exception": false,
     "start_time": "2023-07-05T14:34:36.826403",
     "status": "completed"
    },
    "tags": []
   },
   "source": [
    "# To perform polynomial linear regression, you can use the following algorithm:\n",
    "\n",
    "1. Gather your data: Collect the data for your dependent variable (y) and independent variable (x). \n",
    "2. Choose the degree of the polynomial: Decide on the degree of the polynomial that you want to fit to your data. This determines the complexity of the curve.\n",
    "\n",
    "3. Create the polynomial features: Generate additional features by raising the independent variable (x) to the appropriate powers, up to the chosen degree. For example, if the chosen degree is 2, you would create an additional feature x^2.\n",
    "\n",
    "4. Construct the design matrix: Create a design matrix X that includes the original independent variable (x) and the additional polynomial features. Each row of X represents a data point, and each column represents a feature.\n",
    "\n",
    "5. Normalize the features (optional): It may be beneficial to normalize the features to have zero mean and unit variance, especially if they have significantly different scales. This step helps prevent one feature from dominating the others.\n",
    "\n",
    "6. Fit the polynomial regression model: Use a method like least squares to estimate the coefficients β that minimize the sum of squared differences between the observed values of y and the predicted values based on the polynomial model. This step involves solving a system of equations.\n",
    "\n",
    "7. Evaluate the model:  you can evaluate the performance of the model. Calculate metrics such as mean squared error (MSE) or R-squared to assess how well the model fits the data.\n",
    "\n",
    "8. Make predictions: Use the trained polynomial regression model to make predictions on new data by plugging in the values of the independent variable (x) into the polynomial equation.\n",
    "\n",
    "9. Visualize the results: Plot the observed data points along with the fitted polynomial curve to visualize the relationship between the variables."
   ]
  },
  {
   "cell_type": "markdown",
   "id": "3115274f",
   "metadata": {
    "papermill": {
     "duration": 0.007502,
     "end_time": "2023-07-05T14:34:36.849608",
     "exception": false,
     "start_time": "2023-07-05T14:34:36.842106",
     "status": "completed"
    },
    "tags": []
   },
   "source": [
    "# simple polynomial linear Regression "
   ]
  },
  {
   "cell_type": "code",
   "execution_count": 2,
   "id": "eca7a2d1",
   "metadata": {
    "execution": {
     "iopub.execute_input": "2023-07-05T14:34:36.867073Z",
     "iopub.status.busy": "2023-07-05T14:34:36.866688Z",
     "iopub.status.idle": "2023-07-05T14:34:36.871324Z",
     "shell.execute_reply": "2023-07-05T14:34:36.870479Z"
    },
    "papermill": {
     "duration": 0.015837,
     "end_time": "2023-07-05T14:34:36.873315",
     "exception": false,
     "start_time": "2023-07-05T14:34:36.857478",
     "status": "completed"
    },
    "tags": []
   },
   "outputs": [],
   "source": [
    "X = 6 * np.random.rand(200, 1) - 3\n",
    "y = 0.8 * X**2 + 0.9 * X + 2 + np.random.randn(200, 1)\n",
    "\n",
    "# y = 0.8x^2 + 0.9x + 2"
   ]
  },
  {
   "cell_type": "code",
   "execution_count": 3,
   "id": "2e007553",
   "metadata": {
    "execution": {
     "iopub.execute_input": "2023-07-05T14:34:36.891864Z",
     "iopub.status.busy": "2023-07-05T14:34:36.891204Z",
     "iopub.status.idle": "2023-07-05T14:34:37.147951Z",
     "shell.execute_reply": "2023-07-05T14:34:37.146810Z"
    },
    "papermill": {
     "duration": 0.268529,
     "end_time": "2023-07-05T14:34:37.149960",
     "exception": false,
     "start_time": "2023-07-05T14:34:36.881431",
     "status": "completed"
    },
    "tags": []
   },
   "outputs": [
    {
     "data": {
      "image/png": "[encoded data removed]",
      "text/plain": [
       "<Figure size 640x480 with 1 Axes>"
      ]
     },
     "metadata": {},
     "output_type": "display_data"
    }
   ],
   "source": [
    "plt.plot(X, y,'b.')\n",
    "plt.xlabel(\"X\")\n",
    "plt.ylabel(\"y\")\n",
    "plt.show()"
   ]
  },
  {
   "cell_type": "code",
   "execution_count": 4,
   "id": "726e31fb",
   "metadata": {
    "execution": {
     "iopub.execute_input": "2023-07-05T14:34:37.168557Z",
     "iopub.status.busy": "2023-07-05T14:34:37.168161Z",
     "iopub.status.idle": "2023-07-05T14:34:37.174132Z",
     "shell.execute_reply": "2023-07-05T14:34:37.173395Z"
    },
    "papermill": {
     "duration": 0.017687,
     "end_time": "2023-07-05T14:34:37.176061",
     "exception": false,
     "start_time": "2023-07-05T14:34:37.158374",
     "status": "completed"
    },
    "tags": []
   },
   "outputs": [],
   "source": [
    "# Train test split\n",
    "X_train,X_test,y_train,y_test = train_test_split(X,y,test_size=0.2,random_state=2)"
   ]
  },
  {
   "cell_type": "code",
   "execution_count": 5,
   "id": "5e9a4f17",
   "metadata": {
    "execution": {
     "iopub.execute_input": "2023-07-05T14:34:37.194730Z",
     "iopub.status.busy": "2023-07-05T14:34:37.193803Z",
     "iopub.status.idle": "2023-07-05T14:34:37.197818Z",
     "shell.execute_reply": "2023-07-05T14:34:37.197130Z"
    },
    "papermill": {
     "duration": 0.015314,
     "end_time": "2023-07-05T14:34:37.199804",
     "exception": false,
     "start_time": "2023-07-05T14:34:37.184490",
     "status": "completed"
    },
    "tags": []
   },
   "outputs": [],
   "source": [
    "# Applying linear regression\n",
    "lr = LinearRegression()"
   ]
  },
  {
   "cell_type": "code",
   "execution_count": 6,
   "id": "a5005e89",
   "metadata": {
    "execution": {
     "iopub.execute_input": "2023-07-05T14:34:37.218304Z",
     "iopub.status.busy": "2023-07-05T14:34:37.217611Z",
     "iopub.status.idle": "2023-07-05T14:34:37.243949Z",
     "shell.execute_reply": "2023-07-05T14:34:37.243196Z"
    },
    "papermill": {
     "duration": 0.037898,
     "end_time": "2023-07-05T14:34:37.245952",
     "exception": false,
     "start_time": "2023-07-05T14:34:37.208054",
     "status": "completed"
    },
    "tags": []
   },
   "outputs": [
    {
     "data": {
      "text/html": [
       "<style>#sk-container-id-1 {color: black;background-color: white;}#sk-container-id-1 pre{padding: 0;}#sk-container-id-1 div.sk-toggleable {background-color: white;}#sk-container-id-1 label.sk-toggleable__label {cursor: pointer;display: block;width: 100%;margin-bottom: 0;padding: 0.3em;box-sizing: border-box;text-align: center;}#sk-container-id-1 label.sk-toggleable__label-arrow:before {content: \"▸\";float: left;margin-right: 0.25em;color: #696969;}#sk-container-id-1 label.sk-toggleable__label-arrow:hover:before {color: black;}#sk-container-id-1 div.sk-estimator:hover label.sk-toggleable__label-arrow:before {color: black;}#sk-container-id-1 div.sk-toggleable__content {max-height: 0;max-width: 0;overflow: hidden;text-align: left;background-color: #f0f8ff;}#sk-container-id-1 div.sk-toggleable__content pre {margin: 0.2em;color: black;border-radius: 0.25em;background-color: #f0f8ff;}#sk-container-id-1 input.sk-toggleable__control:checked~div.sk-toggleable__content {max-height: 200px;max-width: 100%;overflow: auto;}#sk-container-id-1 input.sk-toggleable__control:checked~label.sk-toggleable__label-arrow:before {content: \"▾\";}#sk-container-id-1 div.sk-estimator input.sk-toggleable__control:checked~label.sk-toggleable__label {background-color: #d4ebff;}#sk-container-id-1 div.sk-label input.sk-toggleable__control:checked~label.sk-toggleable__label {background-color: #d4ebff;}#sk-container-id-1 input.sk-hidden--visually {border: 0;clip: rect(1px 1px 1px 1px);clip: rect(1px, 1px, 1px, 1px);height: 1px;margin: -1px;overflow: hidden;padding: 0;position: absolute;width: 1px;}#sk-container-id-1 div.sk-estimator {font-family: monospace;background-color: #f0f8ff;border: 1px dotted black;border-radius: 0.25em;box-sizing: border-box;margin-bottom: 0.5em;}#sk-container-id-1 div.sk-estimator:hover {background-color: #d4ebff;}#sk-container-id-1 div.sk-parallel-item::after {content: \"\";width: 100%;border-bottom: 1px solid gray;flex-grow: 1;}#sk-container-id-1 div.sk-label:hover label.sk-toggleable__label {background-color: #d4ebff;}#sk-container-id-1 div.sk-serial::before {content: \"\";position: absolute;border-left: 1px solid gray;box-sizing: border-box;top: 0;bottom: 0;left: 50%;z-index: 0;}#sk-container-id-1 div.sk-serial {display: flex;flex-direction: column;align-items: center;background-color: white;padding-right: 0.2em;padding-left: 0.2em;position: relative;}#sk-container-id-1 div.sk-item {position: relative;z-index: 1;}#sk-container-id-1 div.sk-parallel {display: flex;align-items: stretch;justify-content: center;background-color: white;position: relative;}#sk-container-id-1 div.sk-item::before, #sk-container-id-1 div.sk-parallel-item::before {content: \"\";position: absolute;border-left: 1px solid gray;box-sizing: border-box;top: 0;bottom: 0;left: 50%;z-index: -1;}#sk-container-id-1 div.sk-parallel-item {display: flex;flex-direction: column;z-index: 1;position: relative;background-color: white;}#sk-container-id-1 div.sk-parallel-item:first-child::after {align-self: flex-end;width: 50%;}#sk-container-id-1 div.sk-parallel-item:last-child::after {align-self: flex-start;width: 50%;}#sk-container-id-1 div.sk-parallel-item:only-child::after {width: 0;}#sk-container-id-1 div.sk-dashed-wrapped {border: 1px dashed gray;margin: 0 0.4em 0.5em 0.4em;box-sizing: border-box;padding-bottom: 0.4em;background-color: white;}#sk-container-id-1 div.sk-label label {font-family: monospace;font-weight: bold;display: inline-block;line-height: 1.2em;}#sk-container-id-1 div.sk-label-container {text-align: center;}#sk-container-id-1 div.sk-container {/* jupyter's `normalize.less` sets `[hidden] { display: none; }` but bootstrap.min.css set `[hidden] { display: none !important; }` so we also need the `!important` here to be able to override the default hidden behavior on the sphinx rendered scikit-learn.org. See: https://github.com/scikit-learn/scikit-learn/issues/21755 */display: inline-block !important;position: relative;}#sk-container-id-1 div.sk-text-repr-fallback {display: none;}</style><div id=\"sk-container-id-1\" class=\"sk-top-container\"><div class=\"sk-text-repr-fallback\"><pre>LinearRegression()</pre><b>In a Jupyter environment, please rerun this cell to show the HTML representation or trust the notebook. <br />On GitHub, the HTML representation is unable to render, please try loading this page with nbviewer.org.</b></div><div class=\"sk-container\" hidden><div class=\"sk-item\"><div class=\"sk-estimator sk-toggleable\"><input class=\"sk-toggleable__control sk-hidden--visually\" id=\"sk-estimator-id-1\" type=\"checkbox\" checked><label for=\"sk-estimator-id-1\" class=\"sk-toggleable__label sk-toggleable__label-arrow\">LinearRegression</label><div class=\"sk-toggleable__content\"><pre>LinearRegression()</pre></div></div></div></div></div>"
      ],
      "text/plain": [
       "LinearRegression()"
      ]
     },
     "execution_count": 6,
     "metadata": {},
     "output_type": "execute_result"
    }
   ],
   "source": [
    "lr.fit(X_train,y_train)"
   ]
  },
  {
   "cell_type": "code",
   "execution_count": 7,
   "id": "199f3bc2",
   "metadata": {
    "execution": {
     "iopub.execute_input": "2023-07-05T14:34:37.265110Z",
     "iopub.status.busy": "2023-07-05T14:34:37.264447Z",
     "iopub.status.idle": "2023-07-05T14:34:37.270948Z",
     "shell.execute_reply": "2023-07-05T14:34:37.270186Z"
    },
    "papermill": {
     "duration": 0.018374,
     "end_time": "2023-07-05T14:34:37.272867",
     "exception": false,
     "start_time": "2023-07-05T14:34:37.254493",
     "status": "completed"
    },
    "tags": []
   },
   "outputs": [
    {
     "data": {
      "text/plain": [
       "0.01839791886002895"
      ]
     },
     "execution_count": 7,
     "metadata": {},
     "output_type": "execute_result"
    }
   ],
   "source": [
    "y_pred = lr.predict(X_test)\n",
    "r2_score(y_test,y_pred)"
   ]
  },
  {
   "cell_type": "code",
   "execution_count": 8,
   "id": "b9bdb634",
   "metadata": {
    "execution": {
     "iopub.execute_input": "2023-07-05T14:34:37.292306Z",
     "iopub.status.busy": "2023-07-05T14:34:37.291623Z",
     "iopub.status.idle": "2023-07-05T14:34:37.514307Z",
     "shell.execute_reply": "2023-07-05T14:34:37.513199Z"
    },
    "papermill": {
     "duration": 0.235248,
     "end_time": "2023-07-05T14:34:37.516664",
     "exception": false,
     "start_time": "2023-07-05T14:34:37.281416",
     "status": "completed"
    },
    "tags": []
   },
   "outputs": [
    {
     "data": {
      "image/png": "[encoded data removed]",
      "text/plain": [
       "<Figure size 640x480 with 1 Axes>"
      ]
     },
     "metadata": {},
     "output_type": "display_data"
    }
   ],
   "source": [
    "plt.plot(X_train,lr.predict(X_train),color='r')\n",
    "plt.plot(X, y, \"b.\")\n",
    "plt.xlabel(\"X\")\n",
    "plt.ylabel(\"y\")\n",
    "plt.show()"
   ]
  },
  {
   "cell_type": "code",
   "execution_count": 9,
   "id": "9f9477c0",
   "metadata": {
    "execution": {
     "iopub.execute_input": "2023-07-05T14:34:37.536538Z",
     "iopub.status.busy": "2023-07-05T14:34:37.536126Z",
     "iopub.status.idle": "2023-07-05T14:34:37.542485Z",
     "shell.execute_reply": "2023-07-05T14:34:37.541418Z"
    },
    "papermill": {
     "duration": 0.018927,
     "end_time": "2023-07-05T14:34:37.544786",
     "exception": false,
     "start_time": "2023-07-05T14:34:37.525859",
     "status": "completed"
    },
    "tags": []
   },
   "outputs": [],
   "source": [
    "\n",
    "# Applying Polynomial Linear Regression\n",
    "# degree 2\n",
    "poly = PolynomialFeatures(degree=2,include_bias=True)\n",
    "\n",
    "X_train_trans = poly.fit_transform(X_train)\n",
    "X_test_trans = poly.transform(X_test)\n",
    "\n",
    "#inclulde_bias"
   ]
  },
  {
   "cell_type": "code",
   "execution_count": 10,
   "id": "fdcee488",
   "metadata": {
    "execution": {
     "iopub.execute_input": "2023-07-05T14:34:37.564627Z",
     "iopub.status.busy": "2023-07-05T14:34:37.564211Z",
     "iopub.status.idle": "2023-07-05T14:34:37.570510Z",
     "shell.execute_reply": "2023-07-05T14:34:37.569285Z"
    },
    "papermill": {
     "duration": 0.018785,
     "end_time": "2023-07-05T14:34:37.572662",
     "exception": false,
     "start_time": "2023-07-05T14:34:37.553877",
     "status": "completed"
    },
    "tags": []
   },
   "outputs": [
    {
     "name": "stdout",
     "output_type": "stream",
     "text": [
      "[2.37479883]\n",
      "[1.         2.37479883 5.63966948]\n"
     ]
    }
   ],
   "source": [
    "print(X_train[0])\n",
    "print(X_train_trans[0])"
   ]
  },
  {
   "cell_type": "code",
   "execution_count": 11,
   "id": "0de04bce",
   "metadata": {
    "execution": {
     "iopub.execute_input": "2023-07-05T14:34:37.592339Z",
     "iopub.status.busy": "2023-07-05T14:34:37.591946Z",
     "iopub.status.idle": "2023-07-05T14:34:37.606611Z",
     "shell.execute_reply": "2023-07-05T14:34:37.605563Z"
    },
    "papermill": {
     "duration": 0.02742,
     "end_time": "2023-07-05T14:34:37.609024",
     "exception": false,
     "start_time": "2023-07-05T14:34:37.581604",
     "status": "completed"
    },
    "tags": []
   },
   "outputs": [
    {
     "data": {
      "text/html": [
       "<style>#sk-container-id-2 {color: black;background-color: white;}#sk-container-id-2 pre{padding: 0;}#sk-container-id-2 div.sk-toggleable {background-color: white;}#sk-container-id-2 label.sk-toggleable__label {cursor: pointer;display: block;width: 100%;margin-bottom: 0;padding: 0.3em;box-sizing: border-box;text-align: center;}#sk-container-id-2 label.sk-toggleable__label-arrow:before {content: \"▸\";float: left;margin-right: 0.25em;color: #696969;}#sk-container-id-2 label.sk-toggleable__label-arrow:hover:before {color: black;}#sk-container-id-2 div.sk-estimator:hover label.sk-toggleable__label-arrow:before {color: black;}#sk-container-id-2 div.sk-toggleable__content {max-height: 0;max-width: 0;overflow: hidden;text-align: left;background-color: #f0f8ff;}#sk-container-id-2 div.sk-toggleable__content pre {margin: 0.2em;color: black;border-radius: 0.25em;background-color: #f0f8ff;}#sk-container-id-2 input.sk-toggleable__control:checked~div.sk-toggleable__content {max-height: 200px;max-width: 100%;overflow: auto;}#sk-container-id-2 input.sk-toggleable__control:checked~label.sk-toggleable__label-arrow:before {content: \"▾\";}#sk-container-id-2 div.sk-estimator input.sk-toggleable__control:checked~label.sk-toggleable__label {background-color: #d4ebff;}#sk-container-id-2 div.sk-label input.sk-toggleable__control:checked~label.sk-toggleable__label {background-color: #d4ebff;}#sk-container-id-2 input.sk-hidden--visually {border: 0;clip: rect(1px 1px 1px 1px);clip: rect(1px, 1px, 1px, 1px);height: 1px;margin: -1px;overflow: hidden;padding: 0;position: absolute;width: 1px;}#sk-container-id-2 div.sk-estimator {font-family: monospace;background-color: #f0f8ff;border: 1px dotted black;border-radius: 0.25em;box-sizing: border-box;margin-bottom: 0.5em;}#sk-container-id-2 div.sk-estimator:hover {background-color: #d4ebff;}#sk-container-id-2 div.sk-parallel-item::after {content: \"\";width: 100%;border-bottom: 1px solid gray;flex-grow: 1;}#sk-container-id-2 div.sk-label:hover label.sk-toggleable__label {background-color: #d4ebff;}#sk-container-id-2 div.sk-serial::before {content: \"\";position: absolute;border-left: 1px solid gray;box-sizing: border-box;top: 0;bottom: 0;left: 50%;z-index: 0;}#sk-container-id-2 div.sk-serial {display: flex;flex-direction: column;align-items: center;background-color: white;padding-right: 0.2em;padding-left: 0.2em;position: relative;}#sk-container-id-2 div.sk-item {position: relative;z-index: 1;}#sk-container-id-2 div.sk-parallel {display: flex;align-items: stretch;justify-content: center;background-color: white;position: relative;}#sk-container-id-2 div.sk-item::before, #sk-container-id-2 div.sk-parallel-item::before {content: \"\";position: absolute;border-left: 1px solid gray;box-sizing: border-box;top: 0;bottom: 0;left: 50%;z-index: -1;}#sk-container-id-2 div.sk-parallel-item {display: flex;flex-direction: column;z-index: 1;position: relative;background-color: white;}#sk-container-id-2 div.sk-parallel-item:first-child::after {align-self: flex-end;width: 50%;}#sk-container-id-2 div.sk-parallel-item:last-child::after {align-self: flex-start;width: 50%;}#sk-container-id-2 div.sk-parallel-item:only-child::after {width: 0;}#sk-container-id-2 div.sk-dashed-wrapped {border: 1px dashed gray;margin: 0 0.4em 0.5em 0.4em;box-sizing: border-box;padding-bottom: 0.4em;background-color: white;}#sk-container-id-2 div.sk-label label {font-family: monospace;font-weight: bold;display: inline-block;line-height: 1.2em;}#sk-container-id-2 div.sk-label-container {text-align: center;}#sk-container-id-2 div.sk-container {/* jupyter's `normalize.less` sets `[hidden] { display: none; }` but bootstrap.min.css set `[hidden] { display: none !important; }` so we also need the `!important` here to be able to override the default hidden behavior on the sphinx rendered scikit-learn.org. See: https://github.com/scikit-learn/scikit-learn/issues/21755 */display: inline-block !important;position: relative;}#sk-container-id-2 div.sk-text-repr-fallback {display: none;}</style><div id=\"sk-container-id-2\" class=\"sk-top-container\"><div class=\"sk-text-repr-fallback\"><pre>LinearRegression()</pre><b>In a Jupyter environment, please rerun this cell to show the HTML representation or trust the notebook. <br />On GitHub, the HTML representation is unable to render, please try loading this page with nbviewer.org.</b></div><div class=\"sk-container\" hidden><div class=\"sk-item\"><div class=\"sk-estimator sk-toggleable\"><input class=\"sk-toggleable__control sk-hidden--visually\" id=\"sk-estimator-id-2\" type=\"checkbox\" checked><label for=\"sk-estimator-id-2\" class=\"sk-toggleable__label sk-toggleable__label-arrow\">LinearRegression</label><div class=\"sk-toggleable__content\"><pre>LinearRegression()</pre></div></div></div></div></div>"
      ],
      "text/plain": [
       "LinearRegression()"
      ]
     },
     "execution_count": 11,
     "metadata": {},
     "output_type": "execute_result"
    }
   ],
   "source": [
    "lr = LinearRegression()\n",
    "lr.fit(X_train_trans,y_train)"
   ]
  },
  {
   "cell_type": "code",
   "execution_count": 12,
   "id": "9a5163a0",
   "metadata": {
    "execution": {
     "iopub.execute_input": "2023-07-05T14:34:37.629347Z",
     "iopub.status.busy": "2023-07-05T14:34:37.628967Z",
     "iopub.status.idle": "2023-07-05T14:34:37.633897Z",
     "shell.execute_reply": "2023-07-05T14:34:37.632810Z"
    },
    "papermill": {
     "duration": 0.017673,
     "end_time": "2023-07-05T14:34:37.636041",
     "exception": false,
     "start_time": "2023-07-05T14:34:37.618368",
     "status": "completed"
    },
    "tags": []
   },
   "outputs": [],
   "source": [
    "y_pred = lr.predict(X_test_trans)"
   ]
  },
  {
   "cell_type": "code",
   "execution_count": 13,
   "id": "337d4e1d",
   "metadata": {
    "execution": {
     "iopub.execute_input": "2023-07-05T14:34:37.656214Z",
     "iopub.status.busy": "2023-07-05T14:34:37.655820Z",
     "iopub.status.idle": "2023-07-05T14:34:37.662857Z",
     "shell.execute_reply": "2023-07-05T14:34:37.661803Z"
    },
    "papermill": {
     "duration": 0.019756,
     "end_time": "2023-07-05T14:34:37.664998",
     "exception": false,
     "start_time": "2023-07-05T14:34:37.645242",
     "status": "completed"
    },
    "tags": []
   },
   "outputs": [
    {
     "data": {
      "text/plain": [
       "0.7804499010890638"
      ]
     },
     "execution_count": 13,
     "metadata": {},
     "output_type": "execute_result"
    }
   ],
   "source": [
    "r2_score(y_test,y_pred)"
   ]
  },
  {
   "cell_type": "code",
   "execution_count": 14,
   "id": "e1f80c86",
   "metadata": {
    "execution": {
     "iopub.execute_input": "2023-07-05T14:34:37.685244Z",
     "iopub.status.busy": "2023-07-05T14:34:37.684875Z",
     "iopub.status.idle": "2023-07-05T14:34:37.690307Z",
     "shell.execute_reply": "2023-07-05T14:34:37.689313Z"
    },
    "papermill": {
     "duration": 0.018332,
     "end_time": "2023-07-05T14:34:37.692671",
     "exception": false,
     "start_time": "2023-07-05T14:34:37.674339",
     "status": "completed"
    },
    "tags": []
   },
   "outputs": [
    {
     "name": "stdout",
     "output_type": "stream",
     "text": [
      "[[0.         0.98857876 0.80949221]]\n",
      "[1.89703914]\n"
     ]
    }
   ],
   "source": [
    "print(lr.coef_)\n",
    "print(lr.intercept_)"
   ]
  },
  {
   "cell_type": "code",
   "execution_count": 15,
   "id": "7869ab28",
   "metadata": {
    "execution": {
     "iopub.execute_input": "2023-07-05T14:34:37.713029Z",
     "iopub.status.busy": "2023-07-05T14:34:37.712631Z",
     "iopub.status.idle": "2023-07-05T14:34:37.718287Z",
     "shell.execute_reply": "2023-07-05T14:34:37.717242Z"
    },
    "papermill": {
     "duration": 0.018355,
     "end_time": "2023-07-05T14:34:37.720370",
     "exception": false,
     "start_time": "2023-07-05T14:34:37.702015",
     "status": "completed"
    },
    "tags": []
   },
   "outputs": [],
   "source": [
    "X_new=np.linspace(-3, 3, 200).reshape(200, 1)\n",
    "X_new_poly = poly.transform(X_new)\n",
    "y_new = lr.predict(X_new_poly)"
   ]
  },
  {
   "cell_type": "code",
   "execution_count": 16,
   "id": "9abd542f",
   "metadata": {
    "execution": {
     "iopub.execute_input": "2023-07-05T14:34:37.741938Z",
     "iopub.status.busy": "2023-07-05T14:34:37.740822Z",
     "iopub.status.idle": "2023-07-05T14:34:38.011748Z",
     "shell.execute_reply": "2023-07-05T14:34:38.010978Z"
    },
    "papermill": {
     "duration": 0.283827,
     "end_time": "2023-07-05T14:34:38.013707",
     "exception": false,
     "start_time": "2023-07-05T14:34:37.729880",
     "status": "completed"
    },
    "tags": []
   },
   "outputs": [
    {
     "data": {
      "image/png": "[encoded data removed]",
      "text/plain": [
       "<Figure size 640x480 with 1 Axes>"
      ]
     },
     "metadata": {},
     "output_type": "display_data"
    }
   ],
   "source": [
    "plt.plot(X_new, y_new, \"r-\", linewidth=2, label=\"Predictions\")\n",
    "plt.plot(X_train, y_train, \"b.\",label='Training points')\n",
    "plt.plot(X_test, y_test, \"g.\",label='Testing points')\n",
    "plt.xlabel(\"X\")\n",
    "plt.ylabel(\"y\")\n",
    "plt.legend()\n",
    "plt.show()"
   ]
  },
  {
   "cell_type": "code",
   "execution_count": 17,
   "id": "f006e2eb",
   "metadata": {
    "execution": {
     "iopub.execute_input": "2023-07-05T14:34:38.035732Z",
     "iopub.status.busy": "2023-07-05T14:34:38.034778Z",
     "iopub.status.idle": "2023-07-05T14:34:38.042769Z",
     "shell.execute_reply": "2023-07-05T14:34:38.041781Z"
    },
    "papermill": {
     "duration": 0.02158,
     "end_time": "2023-07-05T14:34:38.045219",
     "exception": false,
     "start_time": "2023-07-05T14:34:38.023639",
     "status": "completed"
    },
    "tags": []
   },
   "outputs": [],
   "source": [
    "def polynomial_regression(degree):\n",
    "    X_new=np.linspace(-3, 3, 100).reshape(100, 1)\n",
    "    X_new_poly = poly.transform(X_new)\n",
    "\n",
    "    polybig_features = PolynomialFeatures(degree=degree, include_bias=False)\n",
    "    std_scaler = StandardScaler()\n",
    "    lin_reg = LinearRegression()\n",
    "    polynomial_regression = Pipeline([\n",
    "            (\"poly_features\", polybig_features),\n",
    "            (\"std_scaler\", std_scaler),\n",
    "            (\"lin_reg\", lin_reg),\n",
    "        ])\n",
    "    polynomial_regression.fit(X, y)\n",
    "    y_newbig = polynomial_regression.predict(X_new)\n",
    "    plt.plot(X_new, y_newbig,'r', label=\"Degree \" + str(degree), linewidth=2)\n",
    "\n",
    "    plt.plot(X_train, y_train, \"b.\", linewidth=3)\n",
    "    plt.plot(X_test, y_test, \"g.\", linewidth=3)\n",
    "    plt.legend(loc=\"upper left\")\n",
    "    plt.xlabel(\"X\")\n",
    "    plt.ylabel(\"y\")\n",
    "    plt.axis([-3, 3, 0, 10])\n",
    "    plt.show()"
   ]
  },
  {
   "cell_type": "code",
   "execution_count": 18,
   "id": "a13bd9d7",
   "metadata": {
    "execution": {
     "iopub.execute_input": "2023-07-05T14:34:38.067189Z",
     "iopub.status.busy": "2023-07-05T14:34:38.066595Z",
     "iopub.status.idle": "2023-07-05T14:34:38.296193Z",
     "shell.execute_reply": "2023-07-05T14:34:38.294990Z"
    },
    "papermill": {
     "duration": 0.242849,
     "end_time": "2023-07-05T14:34:38.298551",
     "exception": false,
     "start_time": "2023-07-05T14:34:38.055702",
     "status": "completed"
    },
    "tags": []
   },
   "outputs": [
    {
     "data": {
      "image/png": "[encoded data removed]",
      "text/plain": [
       "<Figure size 640x480 with 1 Axes>"
      ]
     },
     "metadata": {},
     "output_type": "display_data"
    }
   ],
   "source": [
    "polynomial_regression(35)"
   ]
  },
  {
   "cell_type": "code",
   "execution_count": 19,
   "id": "c9651813",
   "metadata": {
    "execution": {
     "iopub.execute_input": "2023-07-05T14:34:38.321214Z",
     "iopub.status.busy": "2023-07-05T14:34:38.320858Z",
     "iopub.status.idle": "2023-07-05T14:34:38.326969Z",
     "shell.execute_reply": "2023-07-05T14:34:38.325957Z"
    },
    "papermill": {
     "duration": 0.019867,
     "end_time": "2023-07-05T14:34:38.329029",
     "exception": false,
     "start_time": "2023-07-05T14:34:38.309162",
     "status": "completed"
    },
    "tags": []
   },
   "outputs": [
    {
     "data": {
      "text/plain": [
       "array([[0],\n",
       "       [1],\n",
       "       [2]])"
      ]
     },
     "execution_count": 19,
     "metadata": {},
     "output_type": "execute_result"
    }
   ],
   "source": [
    "poly.powers_"
   ]
  },
  {
   "cell_type": "markdown",
   "id": "6f3209ca",
   "metadata": {
    "papermill": {
     "duration": 0.010169,
     "end_time": "2023-07-05T14:34:38.349894",
     "exception": false,
     "start_time": "2023-07-05T14:34:38.339725",
     "status": "completed"
    },
    "tags": []
   },
   "source": [
    "# Applying Gradient Descent\n"
   ]
  },
  {
   "cell_type": "code",
   "execution_count": 20,
   "id": "54c3de11",
   "metadata": {
    "execution": {
     "iopub.execute_input": "2023-07-05T14:34:38.372758Z",
     "iopub.status.busy": "2023-07-05T14:34:38.372369Z",
     "iopub.status.idle": "2023-07-05T14:34:38.648415Z",
     "shell.execute_reply": "2023-07-05T14:34:38.647386Z"
    },
    "papermill": {
     "duration": 0.290227,
     "end_time": "2023-07-05T14:34:38.650689",
     "exception": false,
     "start_time": "2023-07-05T14:34:38.360462",
     "status": "completed"
    },
    "tags": []
   },
   "outputs": [
    {
     "name": "stderr",
     "output_type": "stream",
     "text": [
      "/opt/conda/lib/python3.10/site-packages/sklearn/utils/validation.py:1143: DataConversionWarning: A column-vector y was passed when a 1d array was expected. Please change the shape of y to (n_samples, ), for example using ravel().\n",
      "  y = column_or_1d(y, warn=True)\n"
     ]
    },
    {
     "data": {
      "image/png": "[encoded data removed]",
      "text/plain": [
       "<Figure size 640x480 with 1 Axes>"
      ]
     },
     "metadata": {},
     "output_type": "display_data"
    }
   ],
   "source": [
    "\n",
    "poly = PolynomialFeatures(degree=2)\n",
    "\n",
    "X_train_trans = poly.fit_transform(X_train)\n",
    "X_test_trans = poly.transform(X_test)\n",
    "\n",
    "sgd = SGDRegressor(max_iter=100)\n",
    "sgd.fit(X_train_trans,y_train)\n",
    "\n",
    "X_new=np.linspace(-2.9, 2.8, 200).reshape(200, 1)\n",
    "X_new_poly = poly.transform(X_new)\n",
    "y_new = sgd.predict(X_new_poly)\n",
    "\n",
    "y_pred = sgd.predict(X_test_trans)\n",
    "\n",
    "plt.plot(X_new, y_new, \"r-\", linewidth=2, label=\"Predictions \" + str(round(r2_score(y_test,y_pred),2)))\n",
    "plt.plot(X_train, y_train, \"b.\",label='Training points')\n",
    "plt.plot(X_test, y_test, \"g.\",label='Testing points')\n",
    "plt.xlabel(\"X\")\n",
    "plt.ylabel(\"y\")\n",
    "plt.legend()\n",
    "plt.show()"
   ]
  },
  {
   "cell_type": "markdown",
   "id": "4a99425b",
   "metadata": {
    "papermill": {
     "duration": 0.011128,
     "end_time": "2023-07-05T14:34:38.673162",
     "exception": false,
     "start_time": "2023-07-05T14:34:38.662034",
     "status": "completed"
    },
    "tags": []
   },
   "source": [
    "# Multiple Polnomial linear Regression"
   ]
  },
  {
   "cell_type": "code",
   "execution_count": 21,
   "id": "76cd2a15",
   "metadata": {
    "execution": {
     "iopub.execute_input": "2023-07-05T14:34:38.697208Z",
     "iopub.status.busy": "2023-07-05T14:34:38.696793Z",
     "iopub.status.idle": "2023-07-05T14:34:38.702891Z",
     "shell.execute_reply": "2023-07-05T14:34:38.701823Z"
    },
    "papermill": {
     "duration": 0.020686,
     "end_time": "2023-07-05T14:34:38.705021",
     "exception": false,
     "start_time": "2023-07-05T14:34:38.684335",
     "status": "completed"
    },
    "tags": []
   },
   "outputs": [],
   "source": [
    "# 3D polynomial regression\n",
    "x = 7 * np.random.rand(100, 1) - 2.8\n",
    "y = 7 * np.random.rand(100, 1) - 2.8\n",
    "\n",
    "z = x**2 + y**2 + 0.2*x + 0.2*y + 0.1*x*y +2 + np.random.randn(100, 1)\n",
    "# z = x^2 + y^2 + 0.2x + 0.2y + 0.1xy + 2"
   ]
  },
  {
   "cell_type": "code",
   "execution_count": 22,
   "id": "bc56d1b7",
   "metadata": {
    "execution": {
     "iopub.execute_input": "2023-07-05T14:34:38.729028Z",
     "iopub.status.busy": "2023-07-05T14:34:38.728622Z",
     "iopub.status.idle": "2023-07-05T14:34:41.082232Z",
     "shell.execute_reply": "2023-07-05T14:34:41.081508Z"
    },
    "papermill": {
     "duration": 2.367778,
     "end_time": "2023-07-05T14:34:41.084119",
     "exception": false,
     "start_time": "2023-07-05T14:34:38.716341",
     "status": "completed"
    },
    "tags": []
   },
   "outputs": [
    {
     "data": {
      "text/html": [
       "        <script type=\"text/javascript\">\n",
       "        window.PlotlyConfig = {MathJaxConfig: 'local'};\n",
       "        if (window.MathJax && window.MathJax.Hub && window.MathJax.Hub.Config) {window.MathJax.Hub.Config({SVG: {font: \"STIX-Web\"}});}\n",
       "        if (typeof require !== 'undefined') {\n",
       "        require.undef(\"plotly\");\n",
       "        requirejs.config({\n",
       "            paths: {\n",
       "                'plotly': ['https://cdn.plot.ly/plotly-2.20.0.min']\n",
       "            }\n",
       "        });\n",
       "        require(['plotly'], function(Plotly) {\n",
       "            window._Plotly = Plotly;\n",
       "        });\n",
       "        }\n",
       "        </script>\n",
       "        "
      ]
     },
     "metadata": {},
     "output_type": "display_data"
    },
    {
     "data": {
      "text/html": [
       "<div>                            <div id=\"24c6fb82-0cad-4b3c-a123-9b4a30650516\" class=\"plotly-graph-div\" style=\"height:525px; width:100%;\"></div>            <script type=\"text/javascript\">                require([\"plotly\"], function(Plotly) {                    window.PLOTLYENV=window.PLOTLYENV || {};                                    if (document.getElementById(\"24c6fb82-0cad-4b3c-a123-9b4a30650516\")) {                    Plotly.newPlot(                        \"24c6fb82-0cad-4b3c-a123-9b4a30650516\",                        [{\"hovertemplate\":\"x=%{x}<br>y=%{y}<br>z=%{z}<extra></extra>\",\"legendgroup\":\"\",\"marker\":{\"color\":\"#636efa\",\"symbol\":\"circle\"},\"mode\":\"markers\",\"name\":\"\",\"scene\":\"scene\",\"showlegend\":false,\"x\":[2.076089761244436,2.4595023749357887,2.9795545625516517,3.3561268753661437,1.150213560451924,-1.8371718605054954,-0.07392725487413898,0.016064165807904818,0.8401416272128732,-2.72251640873958,3.7817697545363105,2.3583650791230566,2.4692044141883454,3.2956490197103943,-1.144034468693805,-0.5318663395218124,1.761587590850608,0.33965722829946676,0.36819189661345186,0.37954205212592695,2.662047791702209,4.008746328121771,-1.1076113606196332,0.08653504123179045,1.0025627119471032,3.5728219035611666,3.1958070385728163,0.6550556889595427,-2.530563278003912,-2.632432960744345,-2.7954444404779886,-1.8979974734316662,2.9315971737581874,-2.2921198221985586,-1.386942311117833,1.3199036380707696,-0.2701469148579707,1.5981535819785053,-0.030399305266971766,3.6420096642007938,-1.0454238618746707,-0.7083355853843605,4.043236215258026,-0.2326072938701711,-2.198939811634774,3.0773258703776927,-1.3241785692151193,-1.7052328923999849,1.7350565009658467,1.9508965105216935,3.634131263963167,1.9883860279978478,-2.1985970646783692,3.528963992195279,-0.8679257342312905,-1.3835376046369867,-0.6319881602459363,3.3742983949669085,3.1426032884441923,-1.331729992098173,0.2052248133978014,0.4191788691869056,-2.2363884799072995,-2.491502060742074,-1.418500557447953,0.7544356869097495,2.9645835147106325,3.112773845666438,-2.022491533683109,-0.5238296967194405,3.6811569749622866,-0.37686327809785425,3.878405862141297,0.5475704427279342,0.11041735411029485,2.4329603684658414,2.8454107922714638,-1.6797994565379197,-2.032008701757881,-0.026551976050561255,2.0360006771356307,-1.4069490192385974,1.196926656822101,-1.4850767892080285,3.955308222297849,-0.14517474095748506,0.6043615527968589,-0.209060788675008,-0.6525139465805054,-1.1074729137509212,1.268892888682088,2.558748751919155,2.0787442331571206,-2.7162059783072965,3.3386346034071632,-0.5674824896089854,2.052663255312111,2.363054114515097,2.2443421362027847,0.11572836041782963],\"y\":[-1.884617981196954,4.138904596770381,1.140974441625974,2.738472830135387,-0.22691472274879843,3.112503924046959,0.7052303021999355,-2.362035370678187,1.3603819679169264,-1.2673857254771077,1.3953618200357951,-2.3341877074387005,-0.7723483839840899,-1.5743127194119975,0.8557274687549867,3.4594481014069887,0.939626117305941,-0.8238683515866931,-0.2527000933946142,1.1457306668133223,-1.3017008848755665,-1.8694210199763166,-1.824622064011617,3.6593034681235945,0.905645593578309,-1.0643587675731063,3.329543879309928,-0.31757902480409017,-1.1772139389594871,-0.1461119672464828,0.10817145837444775,-2.2348099152533205,3.6888247602215634,2.7160317167522017,-2.686951371397574,2.592817337668426,-1.5338825859860143,0.5433016177087042,3.427037388688052,2.7454163747631126,3.857792483342145,-2.541133542659594,1.1983352421027273,1.2048180396385826,-0.5396084016053257,4.129911121732679,2.670253899136232,1.0043777575718549,1.964359580489143,-0.37506557006408325,3.568185211302308,2.170472361427443,-1.010859113706021,0.82196714862412,0.9815341889399312,3.832377275381213,-2.4463698288159197,3.913500711212407,4.147711031534338,1.955504843695178,-2.7722033934615045,3.6328456692884803,-1.8369369637783253,1.1365894145317843,1.809926730956077,3.0835488174021455,1.8542371398892659,0.4894206293067245,3.849795745832173,3.733939466428324,2.630672439000393,1.2827042688949453,-0.7635012809607367,0.6717206921144281,2.5648336434403083,-1.5992467002899953,0.6597311093203788,0.4267641223617904,3.9613059819935597,1.318877156711971,-1.560099143305062,2.09405974686093,-2.500000902827609,3.588450372559092,2.6370688250538246,-2.1291048841460256,-1.985261622381527,1.1230170277402127,3.1407213954049915,-0.17117805006746645,1.3058861001938435,-2.1585688505311027,-0.5850815981885344,2.792400591615804,0.10518454700600843,1.1029535414648963,2.246519321056314,2.8269379779229267,-1.4808080535021637,-0.5467670980590444],\"z\":[8.348652693868505,26.82471306950758,14.20300255811084,21.675193994904916,4.191654638116294,14.585109464876409,1.7343945629531805,7.0933350176440015,6.042236575883532,9.687551311102277,18.549751704682166,11.45560346581942,8.244781471112407,14.803138826172821,4.212962417956249,15.050279734960137,6.742259405281448,3.6571031459154106,1.0384794482716366,4.006560337504615,11.759009515630826,21.73046187717999,6.831286651204453,15.388695553484249,2.9671648080037034,17.209511857157448,25.834969412647045,2.825429760476214,8.864379978799949,9.24473468932864,9.241619664409066,9.528738742825393,26.567696250556427,13.95408825445006,12.752812387308358,11.502698776874572,3.9445428768861674,5.472851869835958,15.556353953922319,26.463519883523606,18.09660449773355,7.86236287343835,22.64580142245109,3.0213275012412555,6.607594054791674,32.28387904617196,10.557355269433643,6.551052995526267,10.200927392138473,6.794446542707391,30.0704241633893,11.440776389893262,6.491790986215534,17.280044311905677,3.7314275680408557,16.54105030976556,8.819685988666503,31.52635864159783,30.451722963025052,7.4296041201647025,8.95453033149805,15.510683481097903,10.457502934740573,9.493630692528534,5.21103600009152,12.477930285193423,17.04542675640458,14.02612838071336,20.173215485655902,15.771172135281901,25.081728988018053,4.674925303328143,17.146682718104817,3.4839526045955007,8.482722669558155,10.522955462697436,12.069146219023377,5.373824290888631,21.14463581553699,3.691749728843396,8.895611852827589,7.637442000868983,9.182844436221053,17.67845130804094,25.822056814259057,5.152795759132526,5.665508286884702,2.0122367056373127,13.484509579692787,0.2701708258971256,6.385400214819993,12.689196952128057,6.510808668720981,17.710664121682882,13.292998623305152,2.9843858496275706,11.70016011418997,19.888469982955947,9.026971856869933,1.8853874203815626],\"type\":\"scatter3d\"}],                        {\"template\":{\"data\":{\"histogram2dcontour\":[{\"type\":\"histogram2dcontour\",\"colorbar\":{\"outlinewidth\":0,\"ticks\":\"\"},\"colorscale\":[[0.0,\"#0d0887\"],[0.1111111111111111,\"#46039f\"],[0.2222222222222222,\"#7201a8\"],[0.3333333333333333,\"#9c179e\"],[0.4444444444444444,\"#bd3786\"],[0.5555555555555556,\"#d8576b\"],[0.6666666666666666,\"#ed7953\"],[0.7777777777777778,\"#fb9f3a\"],[0.8888888888888888,\"#fdca26\"],[1.0,\"#f0f921\"]]}],\"choropleth\":[{\"type\":\"choropleth\",\"colorbar\":{\"outlinewidth\":0,\"ticks\":\"\"}}],\"histogram2d\":[{\"type\":\"histogram2d\",\"colorbar\":{\"outlinewidth\":0,\"ticks\":\"\"},\"colorscale\":[[0.0,\"#0d0887\"],[0.1111111111111111,\"#46039f\"],[0.2222222222222222,\"#7201a8\"],[0.3333333333333333,\"#9c179e\"],[0.4444444444444444,\"#bd3786\"],[0.5555555555555556,\"#d8576b\"],[0.6666666666666666,\"#ed7953\"],[0.7777777777777778,\"#fb9f3a\"],[0.8888888888888888,\"#fdca26\"],[1.0,\"#f0f921\"]]}],\"heatmap\":[{\"type\":\"heatmap\",\"colorbar\":{\"outlinewidth\":0,\"ticks\":\"\"},\"colorscale\":[[0.0,\"#0d0887\"],[0.1111111111111111,\"#46039f\"],[0.2222222222222222,\"#7201a8\"],[0.3333333333333333,\"#9c179e\"],[0.4444444444444444,\"#bd3786\"],[0.5555555555555556,\"#d8576b\"],[0.6666666666666666,\"#ed7953\"],[0.7777777777777778,\"#fb9f3a\"],[0.8888888888888888,\"#fdca26\"],[1.0,\"#f0f921\"]]}],\"heatmapgl\":[{\"type\":\"heatmapgl\",\"colorbar\":{\"outlinewidth\":0,\"ticks\":\"\"},\"colorscale\":[[0.0,\"#0d0887\"],[0.1111111111111111,\"#46039f\"],[0.2222222222222222,\"#7201a8\"],[0.3333333333333333,\"#9c179e\"],[0.4444444444444444,\"#bd3786\"],[0.5555555555555556,\"#d8576b\"],[0.6666666666666666,\"#ed7953\"],[0.7777777777777778,\"#fb9f3a\"],[0.8888888888888888,\"#fdca26\"],[1.0,\"#f0f921\"]]}],\"contourcarpet\":[{\"type\":\"contourcarpet\",\"colorbar\":{\"outlinewidth\":0,\"ticks\":\"\"}}],\"contour\":[{\"type\":\"contour\",\"colorbar\":{\"outlinewidth\":0,\"ticks\":\"\"},\"colorscale\":[[0.0,\"#0d0887\"],[0.1111111111111111,\"#46039f\"],[0.2222222222222222,\"#7201a8\"],[0.3333333333333333,\"#9c179e\"],[0.4444444444444444,\"#bd3786\"],[0.5555555555555556,\"#d8576b\"],[0.6666666666666666,\"#ed7953\"],[0.7777777777777778,\"#fb9f3a\"],[0.8888888888888888,\"#fdca26\"],[1.0,\"#f0f921\"]]}],\"surface\":[{\"type\":\"surface\",\"colorbar\":{\"outlinewidth\":0,\"ticks\":\"\"},\"colorscale\":[[0.0,\"#0d0887\"],[0.1111111111111111,\"#46039f\"],[0.2222222222222222,\"#7201a8\"],[0.3333333333333333,\"#9c179e\"],[0.4444444444444444,\"#bd3786\"],[0.5555555555555556,\"#d8576b\"],[0.6666666666666666,\"#ed7953\"],[0.7777777777777778,\"#fb9f3a\"],[0.8888888888888888,\"#fdca26\"],[1.0,\"#f0f921\"]]}],\"mesh3d\":[{\"type\":\"mesh3d\",\"colorbar\":{\"outlinewidth\":0,\"ticks\":\"\"}}],\"scatter\":[{\"fillpattern\":{\"fillmode\":\"overlay\",\"size\":10,\"solidity\":0.2},\"type\":\"scatter\"}],\"parcoords\":[{\"type\":\"parcoords\",\"line\":{\"colorbar\":{\"outlinewidth\":0,\"ticks\":\"\"}}}],\"scatterpolargl\":[{\"type\":\"scatterpolargl\",\"marker\":{\"colorbar\":{\"outlinewidth\":0,\"ticks\":\"\"}}}],\"bar\":[{\"error_x\":{\"color\":\"#2a3f5f\"},\"error_y\":{\"color\":\"#2a3f5f\"},\"marker\":{\"line\":{\"color\":\"#E5ECF6\",\"width\":0.5},\"pattern\":{\"fillmode\":\"overlay\",\"size\":10,\"solidity\":0.2}},\"type\":\"bar\"}],\"scattergeo\":[{\"type\":\"scattergeo\",\"marker\":{\"colorbar\":{\"outlinewidth\":0,\"ticks\":\"\"}}}],\"scatterpolar\":[{\"type\":\"scatterpolar\",\"marker\":{\"colorbar\":{\"outlinewidth\":0,\"ticks\":\"\"}}}],\"histogram\":[{\"marker\":{\"pattern\":{\"fillmode\":\"overlay\",\"size\":10,\"solidity\":0.2}},\"type\":\"histogram\"}],\"scattergl\":[{\"type\":\"scattergl\",\"marker\":{\"colorbar\":{\"outlinewidth\":0,\"ticks\":\"\"}}}],\"scatter3d\":[{\"type\":\"scatter3d\",\"line\":{\"colorbar\":{\"outlinewidth\":0,\"ticks\":\"\"}},\"marker\":{\"colorbar\":{\"outlinewidth\":0,\"ticks\":\"\"}}}],\"scattermapbox\":[{\"type\":\"scattermapbox\",\"marker\":{\"colorbar\":{\"outlinewidth\":0,\"ticks\":\"\"}}}],\"scatterternary\":[{\"type\":\"scatterternary\",\"marker\":{\"colorbar\":{\"outlinewidth\":0,\"ticks\":\"\"}}}],\"scattercarpet\":[{\"type\":\"scattercarpet\",\"marker\":{\"colorbar\":{\"outlinewidth\":0,\"ticks\":\"\"}}}],\"carpet\":[{\"aaxis\":{\"endlinecolor\":\"#2a3f5f\",\"gridcolor\":\"white\",\"linecolor\":\"white\",\"minorgridcolor\":\"white\",\"startlinecolor\":\"#2a3f5f\"},\"baxis\":{\"endlinecolor\":\"#2a3f5f\",\"gridcolor\":\"white\",\"linecolor\":\"white\",\"minorgridcolor\":\"white\",\"startlinecolor\":\"#2a3f5f\"},\"type\":\"carpet\"}],\"table\":[{\"cells\":{\"fill\":{\"color\":\"#EBF0F8\"},\"line\":{\"color\":\"white\"}},\"header\":{\"fill\":{\"color\":\"#C8D4E3\"},\"line\":{\"color\":\"white\"}},\"type\":\"table\"}],\"barpolar\":[{\"marker\":{\"line\":{\"color\":\"#E5ECF6\",\"width\":0.5},\"pattern\":{\"fillmode\":\"overlay\",\"size\":10,\"solidity\":0.2}},\"type\":\"barpolar\"}],\"pie\":[{\"automargin\":true,\"type\":\"pie\"}]},\"layout\":{\"autotypenumbers\":\"strict\",\"colorway\":[\"#636efa\",\"#EF553B\",\"#00cc96\",\"#ab63fa\",\"#FFA15A\",\"#19d3f3\",\"#FF6692\",\"#B6E880\",\"#FF97FF\",\"#FECB52\"],\"font\":{\"color\":\"#2a3f5f\"},\"hovermode\":\"closest\",\"hoverlabel\":{\"align\":\"left\"},\"paper_bgcolor\":\"white\",\"plot_bgcolor\":\"#E5ECF6\",\"polar\":{\"bgcolor\":\"#E5ECF6\",\"angularaxis\":{\"gridcolor\":\"white\",\"linecolor\":\"white\",\"ticks\":\"\"},\"radialaxis\":{\"gridcolor\":\"white\",\"linecolor\":\"white\",\"ticks\":\"\"}},\"ternary\":{\"bgcolor\":\"#E5ECF6\",\"aaxis\":{\"gridcolor\":\"white\",\"linecolor\":\"white\",\"ticks\":\"\"},\"baxis\":{\"gridcolor\":\"white\",\"linecolor\":\"white\",\"ticks\":\"\"},\"caxis\":{\"gridcolor\":\"white\",\"linecolor\":\"white\",\"ticks\":\"\"}},\"coloraxis\":{\"colorbar\":{\"outlinewidth\":0,\"ticks\":\"\"}},\"colorscale\":{\"sequential\":[[0.0,\"#0d0887\"],[0.1111111111111111,\"#46039f\"],[0.2222222222222222,\"#7201a8\"],[0.3333333333333333,\"#9c179e\"],[0.4444444444444444,\"#bd3786\"],[0.5555555555555556,\"#d8576b\"],[0.6666666666666666,\"#ed7953\"],[0.7777777777777778,\"#fb9f3a\"],[0.8888888888888888,\"#fdca26\"],[1.0,\"#f0f921\"]],\"sequentialminus\":[[0.0,\"#0d0887\"],[0.1111111111111111,\"#46039f\"],[0.2222222222222222,\"#7201a8\"],[0.3333333333333333,\"#9c179e\"],[0.4444444444444444,\"#bd3786\"],[0.5555555555555556,\"#d8576b\"],[0.6666666666666666,\"#ed7953\"],[0.7777777777777778,\"#fb9f3a\"],[0.8888888888888888,\"#fdca26\"],[1.0,\"#f0f921\"]],\"diverging\":[[0,\"#8e0152\"],[0.1,\"#c51b7d\"],[0.2,\"#de77ae\"],[0.3,\"#f1b6da\"],[0.4,\"#fde0ef\"],[0.5,\"#f7f7f7\"],[0.6,\"#e6f5d0\"],[0.7,\"#b8e186\"],[0.8,\"#7fbc41\"],[0.9,\"#4d9221\"],[1,\"#276419\"]]},\"xaxis\":{\"gridcolor\":\"white\",\"linecolor\":\"white\",\"ticks\":\"\",\"title\":{\"standoff\":15},\"zerolinecolor\":\"white\",\"automargin\":true,\"zerolinewidth\":2},\"yaxis\":{\"gridcolor\":\"white\",\"linecolor\":\"white\",\"ticks\":\"\",\"title\":{\"standoff\":15},\"zerolinecolor\":\"white\",\"automargin\":true,\"zerolinewidth\":2},\"scene\":{\"xaxis\":{\"backgroundcolor\":\"#E5ECF6\",\"gridcolor\":\"white\",\"linecolor\":\"white\",\"showbackground\":true,\"ticks\":\"\",\"zerolinecolor\":\"white\",\"gridwidth\":2},\"yaxis\":{\"backgroundcolor\":\"#E5ECF6\",\"gridcolor\":\"white\",\"linecolor\":\"white\",\"showbackground\":true,\"ticks\":\"\",\"zerolinecolor\":\"white\",\"gridwidth\":2},\"zaxis\":{\"backgroundcolor\":\"#E5ECF6\",\"gridcolor\":\"white\",\"linecolor\":\"white\",\"showbackground\":true,\"ticks\":\"\",\"zerolinecolor\":\"white\",\"gridwidth\":2}},\"shapedefaults\":{\"line\":{\"color\":\"#2a3f5f\"}},\"annotationdefaults\":{\"arrowcolor\":\"#2a3f5f\",\"arrowhead\":0,\"arrowwidth\":1},\"geo\":{\"bgcolor\":\"white\",\"landcolor\":\"#E5ECF6\",\"subunitcolor\":\"white\",\"showland\":true,\"showlakes\":true,\"lakecolor\":\"white\"},\"title\":{\"x\":0.05},\"mapbox\":{\"style\":\"light\"}}},\"scene\":{\"domain\":{\"x\":[0.0,1.0],\"y\":[0.0,1.0]},\"xaxis\":{\"title\":{\"text\":\"x\"}},\"yaxis\":{\"title\":{\"text\":\"y\"}},\"zaxis\":{\"title\":{\"text\":\"z\"}}},\"legend\":{\"tracegroupgap\":0},\"margin\":{\"t\":60}},                        {\"responsive\": true}                    ).then(function(){\n",
       "                            \n",
       "var gd = document.getElementById('24c6fb82-0cad-4b3c-a123-9b4a30650516');\n",
       "var x = new MutationObserver(function (mutations, observer) {{\n",
       "        var display = window.getComputedStyle(gd).display;\n",
       "        if (!display || display === 'none') {{\n",
       "            console.log([gd, 'removed!']);\n",
       "            Plotly.purge(gd);\n",
       "            observer.disconnect();\n",
       "        }}\n",
       "}});\n",
       "\n",
       "// Listen for the removal of the full notebook cells\n",
       "var notebookContainer = gd.closest('#notebook-container');\n",
       "if (notebookContainer) {{\n",
       "    x.observe(notebookContainer, {childList: true});\n",
       "}}\n",
       "\n",
       "// Listen for the clearing of the current output cell\n",
       "var outputEl = gd.closest('.output');\n",
       "if (outputEl) {{\n",
       "    x.observe(outputEl, {childList: true});\n",
       "}}\n",
       "\n",
       "                        })                };                });            </script>        </div>"
      ]
     },
     "metadata": {},
     "output_type": "display_data"
    }
   ],
   "source": [
    "import plotly.express as px\n",
    "df = px.data.iris()\n",
    "fig = px.scatter_3d(df, x=x.ravel(), y=y.ravel(), z=z.ravel())\n",
    "fig.show()"
   ]
  },
  {
   "cell_type": "code",
   "execution_count": 23,
   "id": "a65eb464",
   "metadata": {
    "execution": {
     "iopub.execute_input": "2023-07-05T14:34:41.109892Z",
     "iopub.status.busy": "2023-07-05T14:34:41.109103Z",
     "iopub.status.idle": "2023-07-05T14:34:41.118459Z",
     "shell.execute_reply": "2023-07-05T14:34:41.117507Z"
    },
    "papermill": {
     "duration": 0.02483,
     "end_time": "2023-07-05T14:34:41.120713",
     "exception": false,
     "start_time": "2023-07-05T14:34:41.095883",
     "status": "completed"
    },
    "tags": []
   },
   "outputs": [],
   "source": [
    "lr = LinearRegression()\n",
    "lr.fit(np.array([x,y]).reshape(100,2),z)\n",
    "\n",
    "x_input = np.linspace(x.min(), x.max(), 10)\n",
    "y_input = np.linspace(y.min(), y.max(), 10)\n",
    "xGrid, yGrid = np.meshgrid(x_input,y_input)\n",
    "\n",
    "final = np.vstack((xGrid.ravel().reshape(1,100),yGrid.ravel().reshape(1,100))).T\n",
    "\n",
    "z_final = lr.predict(final).reshape(10,10)"
   ]
  },
  {
   "cell_type": "code",
   "execution_count": 24,
   "id": "f790e615",
   "metadata": {
    "execution": {
     "iopub.execute_input": "2023-07-05T14:34:41.145753Z",
     "iopub.status.busy": "2023-07-05T14:34:41.145389Z",
     "iopub.status.idle": "2023-07-05T14:34:41.208817Z",
     "shell.execute_reply": "2023-07-05T14:34:41.207712Z"
    },
    "papermill": {
     "duration": 0.078554,
     "end_time": "2023-07-05T14:34:41.211155",
     "exception": false,
     "start_time": "2023-07-05T14:34:41.132601",
     "status": "completed"
    },
    "tags": []
   },
   "outputs": [
    {
     "data": {
      "text/html": [
       "<div>                            <div id=\"d036948f-68b1-4883-9080-084b57b51157\" class=\"plotly-graph-div\" style=\"height:525px; width:100%;\"></div>            <script type=\"text/javascript\">                require([\"plotly\"], function(Plotly) {                    window.PLOTLYENV=window.PLOTLYENV || {};                                    if (document.getElementById(\"d036948f-68b1-4883-9080-084b57b51157\")) {                    Plotly.newPlot(                        \"d036948f-68b1-4883-9080-084b57b51157\",                        [{\"hovertemplate\":\"x=%{x}<br>y=%{y}<br>z=%{z}<extra></extra>\",\"legendgroup\":\"\",\"marker\":{\"color\":\"#636efa\",\"symbol\":\"circle\"},\"mode\":\"markers\",\"name\":\"\",\"scene\":\"scene\",\"showlegend\":false,\"x\":[2.076089761244436,2.4595023749357887,2.9795545625516517,3.3561268753661437,1.150213560451924,-1.8371718605054954,-0.07392725487413898,0.016064165807904818,0.8401416272128732,-2.72251640873958,3.7817697545363105,2.3583650791230566,2.4692044141883454,3.2956490197103943,-1.144034468693805,-0.5318663395218124,1.761587590850608,0.33965722829946676,0.36819189661345186,0.37954205212592695,2.662047791702209,4.008746328121771,-1.1076113606196332,0.08653504123179045,1.0025627119471032,3.5728219035611666,3.1958070385728163,0.6550556889595427,-2.530563278003912,-2.632432960744345,-2.7954444404779886,-1.8979974734316662,2.9315971737581874,-2.2921198221985586,-1.386942311117833,1.3199036380707696,-0.2701469148579707,1.5981535819785053,-0.030399305266971766,3.6420096642007938,-1.0454238618746707,-0.7083355853843605,4.043236215258026,-0.2326072938701711,-2.198939811634774,3.0773258703776927,-1.3241785692151193,-1.7052328923999849,1.7350565009658467,1.9508965105216935,3.634131263963167,1.9883860279978478,-2.1985970646783692,3.528963992195279,-0.8679257342312905,-1.3835376046369867,-0.6319881602459363,3.3742983949669085,3.1426032884441923,-1.331729992098173,0.2052248133978014,0.4191788691869056,-2.2363884799072995,-2.491502060742074,-1.418500557447953,0.7544356869097495,2.9645835147106325,3.112773845666438,-2.022491533683109,-0.5238296967194405,3.6811569749622866,-0.37686327809785425,3.878405862141297,0.5475704427279342,0.11041735411029485,2.4329603684658414,2.8454107922714638,-1.6797994565379197,-2.032008701757881,-0.026551976050561255,2.0360006771356307,-1.4069490192385974,1.196926656822101,-1.4850767892080285,3.955308222297849,-0.14517474095748506,0.6043615527968589,-0.209060788675008,-0.6525139465805054,-1.1074729137509212,1.268892888682088,2.558748751919155,2.0787442331571206,-2.7162059783072965,3.3386346034071632,-0.5674824896089854,2.052663255312111,2.363054114515097,2.2443421362027847,0.11572836041782963],\"y\":[-1.884617981196954,4.138904596770381,1.140974441625974,2.738472830135387,-0.22691472274879843,3.112503924046959,0.7052303021999355,-2.362035370678187,1.3603819679169264,-1.2673857254771077,1.3953618200357951,-2.3341877074387005,-0.7723483839840899,-1.5743127194119975,0.8557274687549867,3.4594481014069887,0.939626117305941,-0.8238683515866931,-0.2527000933946142,1.1457306668133223,-1.3017008848755665,-1.8694210199763166,-1.824622064011617,3.6593034681235945,0.905645593578309,-1.0643587675731063,3.329543879309928,-0.31757902480409017,-1.1772139389594871,-0.1461119672464828,0.10817145837444775,-2.2348099152533205,3.6888247602215634,2.7160317167522017,-2.686951371397574,2.592817337668426,-1.5338825859860143,0.5433016177087042,3.427037388688052,2.7454163747631126,3.857792483342145,-2.541133542659594,1.1983352421027273,1.2048180396385826,-0.5396084016053257,4.129911121732679,2.670253899136232,1.0043777575718549,1.964359580489143,-0.37506557006408325,3.568185211302308,2.170472361427443,-1.010859113706021,0.82196714862412,0.9815341889399312,3.832377275381213,-2.4463698288159197,3.913500711212407,4.147711031534338,1.955504843695178,-2.7722033934615045,3.6328456692884803,-1.8369369637783253,1.1365894145317843,1.809926730956077,3.0835488174021455,1.8542371398892659,0.4894206293067245,3.849795745832173,3.733939466428324,2.630672439000393,1.2827042688949453,-0.7635012809607367,0.6717206921144281,2.5648336434403083,-1.5992467002899953,0.6597311093203788,0.4267641223617904,3.9613059819935597,1.318877156711971,-1.560099143305062,2.09405974686093,-2.500000902827609,3.588450372559092,2.6370688250538246,-2.1291048841460256,-1.985261622381527,1.1230170277402127,3.1407213954049915,-0.17117805006746645,1.3058861001938435,-2.1585688505311027,-0.5850815981885344,2.792400591615804,0.10518454700600843,1.1029535414648963,2.246519321056314,2.8269379779229267,-1.4808080535021637,-0.5467670980590444],\"z\":[8.348652693868505,26.82471306950758,14.20300255811084,21.675193994904916,4.191654638116294,14.585109464876409,1.7343945629531805,7.0933350176440015,6.042236575883532,9.687551311102277,18.549751704682166,11.45560346581942,8.244781471112407,14.803138826172821,4.212962417956249,15.050279734960137,6.742259405281448,3.6571031459154106,1.0384794482716366,4.006560337504615,11.759009515630826,21.73046187717999,6.831286651204453,15.388695553484249,2.9671648080037034,17.209511857157448,25.834969412647045,2.825429760476214,8.864379978799949,9.24473468932864,9.241619664409066,9.528738742825393,26.567696250556427,13.95408825445006,12.752812387308358,11.502698776874572,3.9445428768861674,5.472851869835958,15.556353953922319,26.463519883523606,18.09660449773355,7.86236287343835,22.64580142245109,3.0213275012412555,6.607594054791674,32.28387904617196,10.557355269433643,6.551052995526267,10.200927392138473,6.794446542707391,30.0704241633893,11.440776389893262,6.491790986215534,17.280044311905677,3.7314275680408557,16.54105030976556,8.819685988666503,31.52635864159783,30.451722963025052,7.4296041201647025,8.95453033149805,15.510683481097903,10.457502934740573,9.493630692528534,5.21103600009152,12.477930285193423,17.04542675640458,14.02612838071336,20.173215485655902,15.771172135281901,25.081728988018053,4.674925303328143,17.146682718104817,3.4839526045955007,8.482722669558155,10.522955462697436,12.069146219023377,5.373824290888631,21.14463581553699,3.691749728843396,8.895611852827589,7.637442000868983,9.182844436221053,17.67845130804094,25.822056814259057,5.152795759132526,5.665508286884702,2.0122367056373127,13.484509579692787,0.2701708258971256,6.385400214819993,12.689196952128057,6.510808668720981,17.710664121682882,13.292998623305152,2.9843858496275706,11.70016011418997,19.888469982955947,9.026971856869933,1.8853874203815626],\"type\":\"scatter3d\"},{\"x\":[-2.7954444404779886,-2.035591034285098,-1.2757376280922075,-0.5158842218993169,0.24396918429357362,1.0038225904864642,1.7636759966793547,2.5235294028722453,3.283382809065136,4.043236215258026],\"y\":[-2.7722033934615045,-2.0033240129064107,-1.2344446323513172,-0.46556525179622366,0.3033141287588701,1.0721935093139638,1.8410728898690571,2.6099522704241513,3.3788316509792446,4.147711031534338],\"z\":[[9.751022868316118,9.725167597724875,9.699312327133631,9.673457056542386,9.647601785951142,9.621746515359899,9.595891244768655,9.570035974177411,9.544180703586168,9.518325432994923],[10.239884818233607,10.214029547642363,10.18817427705112,10.162319006459876,10.136463735868633,10.110608465277387,10.084753194686144,10.0588979240949,10.033042653503657,10.007187382912413],[10.728746768151098,10.702891497559854,10.677036226968609,10.651180956377365,10.625325685786121,10.599470415194878,10.573615144603634,10.547759874012389,10.521904603421145,10.496049332829902],[11.217608718068586,11.191753447477343,11.165898176886099,11.140042906294855,11.11418763570361,11.088332365112366,11.062477094521123,11.03662182392988,11.010766553338636,10.98491128274739],[11.706470667986077,11.680615397394831,11.654760126803588,11.628904856212344,11.6030495856211,11.577194315029857,11.551339044438613,11.525483773847368,11.499628503256124,11.47377323266488],[12.195332617903565,12.169477347312322,12.143622076721078,12.117766806129833,12.091911535538589,12.066056264947346,12.040200994356102,12.014345723764858,11.988490453173615,11.96263518258237],[12.684194567821054,12.65833929722981,12.632484026638567,12.606628756047323,12.58077348545608,12.554918214864834,12.52906294427359,12.503207673682347,12.477352403091103,12.45149713249986],[13.173056517738544,13.1472012471473,13.121345976556057,13.095490705964814,13.069635435373568,13.043780164782325,13.017924894191081,12.992069623599837,12.966214353008592,12.940359082417348],[13.661918467656033,13.63606319706479,13.610207926473546,13.584352655882302,13.558497385291059,13.532642114699815,13.50678684410857,13.480931573517326,13.455076302926082,13.429221032334839],[14.150780417573523,14.124925146982278,14.099069876391034,14.073214605799791,14.047359335208547,14.021504064617304,13.99564879402606,13.969793523434815,13.943938252843571,13.918082982252328]],\"type\":\"surface\"}],                        {\"template\":{\"data\":{\"histogram2dcontour\":[{\"type\":\"histogram2dcontour\",\"colorbar\":{\"outlinewidth\":0,\"ticks\":\"\"},\"colorscale\":[[0.0,\"#0d0887\"],[0.1111111111111111,\"#46039f\"],[0.2222222222222222,\"#7201a8\"],[0.3333333333333333,\"#9c179e\"],[0.4444444444444444,\"#bd3786\"],[0.5555555555555556,\"#d8576b\"],[0.6666666666666666,\"#ed7953\"],[0.7777777777777778,\"#fb9f3a\"],[0.8888888888888888,\"#fdca26\"],[1.0,\"#f0f921\"]]}],\"choropleth\":[{\"type\":\"choropleth\",\"colorbar\":{\"outlinewidth\":0,\"ticks\":\"\"}}],\"histogram2d\":[{\"type\":\"histogram2d\",\"colorbar\":{\"outlinewidth\":0,\"ticks\":\"\"},\"colorscale\":[[0.0,\"#0d0887\"],[0.1111111111111111,\"#46039f\"],[0.2222222222222222,\"#7201a8\"],[0.3333333333333333,\"#9c179e\"],[0.4444444444444444,\"#bd3786\"],[0.5555555555555556,\"#d8576b\"],[0.6666666666666666,\"#ed7953\"],[0.7777777777777778,\"#fb9f3a\"],[0.8888888888888888,\"#fdca26\"],[1.0,\"#f0f921\"]]}],\"heatmap\":[{\"type\":\"heatmap\",\"colorbar\":{\"outlinewidth\":0,\"ticks\":\"\"},\"colorscale\":[[0.0,\"#0d0887\"],[0.1111111111111111,\"#46039f\"],[0.2222222222222222,\"#7201a8\"],[0.3333333333333333,\"#9c179e\"],[0.4444444444444444,\"#bd3786\"],[0.5555555555555556,\"#d8576b\"],[0.6666666666666666,\"#ed7953\"],[0.7777777777777778,\"#fb9f3a\"],[0.8888888888888888,\"#fdca26\"],[1.0,\"#f0f921\"]]}],\"heatmapgl\":[{\"type\":\"heatmapgl\",\"colorbar\":{\"outlinewidth\":0,\"ticks\":\"\"},\"colorscale\":[[0.0,\"#0d0887\"],[0.1111111111111111,\"#46039f\"],[0.2222222222222222,\"#7201a8\"],[0.3333333333333333,\"#9c179e\"],[0.4444444444444444,\"#bd3786\"],[0.5555555555555556,\"#d8576b\"],[0.6666666666666666,\"#ed7953\"],[0.7777777777777778,\"#fb9f3a\"],[0.8888888888888888,\"#fdca26\"],[1.0,\"#f0f921\"]]}],\"contourcarpet\":[{\"type\":\"contourcarpet\",\"colorbar\":{\"outlinewidth\":0,\"ticks\":\"\"}}],\"contour\":[{\"type\":\"contour\",\"colorbar\":{\"outlinewidth\":0,\"ticks\":\"\"},\"colorscale\":[[0.0,\"#0d0887\"],[0.1111111111111111,\"#46039f\"],[0.2222222222222222,\"#7201a8\"],[0.3333333333333333,\"#9c179e\"],[0.4444444444444444,\"#bd3786\"],[0.5555555555555556,\"#d8576b\"],[0.6666666666666666,\"#ed7953\"],[0.7777777777777778,\"#fb9f3a\"],[0.8888888888888888,\"#fdca26\"],[1.0,\"#f0f921\"]]}],\"surface\":[{\"type\":\"surface\",\"colorbar\":{\"outlinewidth\":0,\"ticks\":\"\"},\"colorscale\":[[0.0,\"#0d0887\"],[0.1111111111111111,\"#46039f\"],[0.2222222222222222,\"#7201a8\"],[0.3333333333333333,\"#9c179e\"],[0.4444444444444444,\"#bd3786\"],[0.5555555555555556,\"#d8576b\"],[0.6666666666666666,\"#ed7953\"],[0.7777777777777778,\"#fb9f3a\"],[0.8888888888888888,\"#fdca26\"],[1.0,\"#f0f921\"]]}],\"mesh3d\":[{\"type\":\"mesh3d\",\"colorbar\":{\"outlinewidth\":0,\"ticks\":\"\"}}],\"scatter\":[{\"fillpattern\":{\"fillmode\":\"overlay\",\"size\":10,\"solidity\":0.2},\"type\":\"scatter\"}],\"parcoords\":[{\"type\":\"parcoords\",\"line\":{\"colorbar\":{\"outlinewidth\":0,\"ticks\":\"\"}}}],\"scatterpolargl\":[{\"type\":\"scatterpolargl\",\"marker\":{\"colorbar\":{\"outlinewidth\":0,\"ticks\":\"\"}}}],\"bar\":[{\"error_x\":{\"color\":\"#2a3f5f\"},\"error_y\":{\"color\":\"#2a3f5f\"},\"marker\":{\"line\":{\"color\":\"#E5ECF6\",\"width\":0.5},\"pattern\":{\"fillmode\":\"overlay\",\"size\":10,\"solidity\":0.2}},\"type\":\"bar\"}],\"scattergeo\":[{\"type\":\"scattergeo\",\"marker\":{\"colorbar\":{\"outlinewidth\":0,\"ticks\":\"\"}}}],\"scatterpolar\":[{\"type\":\"scatterpolar\",\"marker\":{\"colorbar\":{\"outlinewidth\":0,\"ticks\":\"\"}}}],\"histogram\":[{\"marker\":{\"pattern\":{\"fillmode\":\"overlay\",\"size\":10,\"solidity\":0.2}},\"type\":\"histogram\"}],\"scattergl\":[{\"type\":\"scattergl\",\"marker\":{\"colorbar\":{\"outlinewidth\":0,\"ticks\":\"\"}}}],\"scatter3d\":[{\"type\":\"scatter3d\",\"line\":{\"colorbar\":{\"outlinewidth\":0,\"ticks\":\"\"}},\"marker\":{\"colorbar\":{\"outlinewidth\":0,\"ticks\":\"\"}}}],\"scattermapbox\":[{\"type\":\"scattermapbox\",\"marker\":{\"colorbar\":{\"outlinewidth\":0,\"ticks\":\"\"}}}],\"scatterternary\":[{\"type\":\"scatterternary\",\"marker\":{\"colorbar\":{\"outlinewidth\":0,\"ticks\":\"\"}}}],\"scattercarpet\":[{\"type\":\"scattercarpet\",\"marker\":{\"colorbar\":{\"outlinewidth\":0,\"ticks\":\"\"}}}],\"carpet\":[{\"aaxis\":{\"endlinecolor\":\"#2a3f5f\",\"gridcolor\":\"white\",\"linecolor\":\"white\",\"minorgridcolor\":\"white\",\"startlinecolor\":\"#2a3f5f\"},\"baxis\":{\"endlinecolor\":\"#2a3f5f\",\"gridcolor\":\"white\",\"linecolor\":\"white\",\"minorgridcolor\":\"white\",\"startlinecolor\":\"#2a3f5f\"},\"type\":\"carpet\"}],\"table\":[{\"cells\":{\"fill\":{\"color\":\"#EBF0F8\"},\"line\":{\"color\":\"white\"}},\"header\":{\"fill\":{\"color\":\"#C8D4E3\"},\"line\":{\"color\":\"white\"}},\"type\":\"table\"}],\"barpolar\":[{\"marker\":{\"line\":{\"color\":\"#E5ECF6\",\"width\":0.5},\"pattern\":{\"fillmode\":\"overlay\",\"size\":10,\"solidity\":0.2}},\"type\":\"barpolar\"}],\"pie\":[{\"automargin\":true,\"type\":\"pie\"}]},\"layout\":{\"autotypenumbers\":\"strict\",\"colorway\":[\"#636efa\",\"#EF553B\",\"#00cc96\",\"#ab63fa\",\"#FFA15A\",\"#19d3f3\",\"#FF6692\",\"#B6E880\",\"#FF97FF\",\"#FECB52\"],\"font\":{\"color\":\"#2a3f5f\"},\"hovermode\":\"closest\",\"hoverlabel\":{\"align\":\"left\"},\"paper_bgcolor\":\"white\",\"plot_bgcolor\":\"#E5ECF6\",\"polar\":{\"bgcolor\":\"#E5ECF6\",\"angularaxis\":{\"gridcolor\":\"white\",\"linecolor\":\"white\",\"ticks\":\"\"},\"radialaxis\":{\"gridcolor\":\"white\",\"linecolor\":\"white\",\"ticks\":\"\"}},\"ternary\":{\"bgcolor\":\"#E5ECF6\",\"aaxis\":{\"gridcolor\":\"white\",\"linecolor\":\"white\",\"ticks\":\"\"},\"baxis\":{\"gridcolor\":\"white\",\"linecolor\":\"white\",\"ticks\":\"\"},\"caxis\":{\"gridcolor\":\"white\",\"linecolor\":\"white\",\"ticks\":\"\"}},\"coloraxis\":{\"colorbar\":{\"outlinewidth\":0,\"ticks\":\"\"}},\"colorscale\":{\"sequential\":[[0.0,\"#0d0887\"],[0.1111111111111111,\"#46039f\"],[0.2222222222222222,\"#7201a8\"],[0.3333333333333333,\"#9c179e\"],[0.4444444444444444,\"#bd3786\"],[0.5555555555555556,\"#d8576b\"],[0.6666666666666666,\"#ed7953\"],[0.7777777777777778,\"#fb9f3a\"],[0.8888888888888888,\"#fdca26\"],[1.0,\"#f0f921\"]],\"sequentialminus\":[[0.0,\"#0d0887\"],[0.1111111111111111,\"#46039f\"],[0.2222222222222222,\"#7201a8\"],[0.3333333333333333,\"#9c179e\"],[0.4444444444444444,\"#bd3786\"],[0.5555555555555556,\"#d8576b\"],[0.6666666666666666,\"#ed7953\"],[0.7777777777777778,\"#fb9f3a\"],[0.8888888888888888,\"#fdca26\"],[1.0,\"#f0f921\"]],\"diverging\":[[0,\"#8e0152\"],[0.1,\"#c51b7d\"],[0.2,\"#de77ae\"],[0.3,\"#f1b6da\"],[0.4,\"#fde0ef\"],[0.5,\"#f7f7f7\"],[0.6,\"#e6f5d0\"],[0.7,\"#b8e186\"],[0.8,\"#7fbc41\"],[0.9,\"#4d9221\"],[1,\"#276419\"]]},\"xaxis\":{\"gridcolor\":\"white\",\"linecolor\":\"white\",\"ticks\":\"\",\"title\":{\"standoff\":15},\"zerolinecolor\":\"white\",\"automargin\":true,\"zerolinewidth\":2},\"yaxis\":{\"gridcolor\":\"white\",\"linecolor\":\"white\",\"ticks\":\"\",\"title\":{\"standoff\":15},\"zerolinecolor\":\"white\",\"automargin\":true,\"zerolinewidth\":2},\"scene\":{\"xaxis\":{\"backgroundcolor\":\"#E5ECF6\",\"gridcolor\":\"white\",\"linecolor\":\"white\",\"showbackground\":true,\"ticks\":\"\",\"zerolinecolor\":\"white\",\"gridwidth\":2},\"yaxis\":{\"backgroundcolor\":\"#E5ECF6\",\"gridcolor\":\"white\",\"linecolor\":\"white\",\"showbackground\":true,\"ticks\":\"\",\"zerolinecolor\":\"white\",\"gridwidth\":2},\"zaxis\":{\"backgroundcolor\":\"#E5ECF6\",\"gridcolor\":\"white\",\"linecolor\":\"white\",\"showbackground\":true,\"ticks\":\"\",\"zerolinecolor\":\"white\",\"gridwidth\":2}},\"shapedefaults\":{\"line\":{\"color\":\"#2a3f5f\"}},\"annotationdefaults\":{\"arrowcolor\":\"#2a3f5f\",\"arrowhead\":0,\"arrowwidth\":1},\"geo\":{\"bgcolor\":\"white\",\"landcolor\":\"#E5ECF6\",\"subunitcolor\":\"white\",\"showland\":true,\"showlakes\":true,\"lakecolor\":\"white\"},\"title\":{\"x\":0.05},\"mapbox\":{\"style\":\"light\"}}},\"scene\":{\"domain\":{\"x\":[0.0,1.0],\"y\":[0.0,1.0]},\"xaxis\":{\"title\":{\"text\":\"x\"}},\"yaxis\":{\"title\":{\"text\":\"y\"}},\"zaxis\":{\"title\":{\"text\":\"z\"}}},\"legend\":{\"tracegroupgap\":0},\"margin\":{\"t\":60}},                        {\"responsive\": true}                    ).then(function(){\n",
       "                            \n",
       "var gd = document.getElementById('d036948f-68b1-4883-9080-084b57b51157');\n",
       "var x = new MutationObserver(function (mutations, observer) {{\n",
       "        var display = window.getComputedStyle(gd).display;\n",
       "        if (!display || display === 'none') {{\n",
       "            console.log([gd, 'removed!']);\n",
       "            Plotly.purge(gd);\n",
       "            observer.disconnect();\n",
       "        }}\n",
       "}});\n",
       "\n",
       "// Listen for the removal of the full notebook cells\n",
       "var notebookContainer = gd.closest('#notebook-container');\n",
       "if (notebookContainer) {{\n",
       "    x.observe(notebookContainer, {childList: true});\n",
       "}}\n",
       "\n",
       "// Listen for the clearing of the current output cell\n",
       "var outputEl = gd.closest('.output');\n",
       "if (outputEl) {{\n",
       "    x.observe(outputEl, {childList: true});\n",
       "}}\n",
       "\n",
       "                        })                };                });            </script>        </div>"
      ]
     },
     "metadata": {},
     "output_type": "display_data"
    }
   ],
   "source": [
    "import plotly.graph_objects as go\n",
    "\n",
    "fig = px.scatter_3d(df, x=x.ravel(), y=y.ravel(), z=z.ravel())\n",
    "\n",
    "fig.add_trace(go.Surface(x = x_input, y = y_input, z =z_final ))\n",
    "\n",
    "fig.show()"
   ]
  },
  {
   "cell_type": "code",
   "execution_count": 25,
   "id": "3b38f998",
   "metadata": {
    "execution": {
     "iopub.execute_input": "2023-07-05T14:34:41.236792Z",
     "iopub.status.busy": "2023-07-05T14:34:41.236405Z",
     "iopub.status.idle": "2023-07-05T14:34:41.243357Z",
     "shell.execute_reply": "2023-07-05T14:34:41.242345Z"
    },
    "papermill": {
     "duration": 0.02217,
     "end_time": "2023-07-05T14:34:41.245324",
     "exception": false,
     "start_time": "2023-07-05T14:34:41.223154",
     "status": "completed"
    },
    "tags": []
   },
   "outputs": [
    {
     "data": {
      "text/plain": [
       "(100, 2)"
      ]
     },
     "execution_count": 25,
     "metadata": {},
     "output_type": "execute_result"
    }
   ],
   "source": [
    "X_multi = np.array([x,y]).reshape(100,2)\n",
    "X_multi.shape"
   ]
  },
  {
   "cell_type": "code",
   "execution_count": 26,
   "id": "a6c7216a",
   "metadata": {
    "execution": {
     "iopub.execute_input": "2023-07-05T14:34:41.271382Z",
     "iopub.status.busy": "2023-07-05T14:34:41.270294Z",
     "iopub.status.idle": "2023-07-05T14:34:41.276133Z",
     "shell.execute_reply": "2023-07-05T14:34:41.275336Z"
    },
    "papermill": {
     "duration": 0.020824,
     "end_time": "2023-07-05T14:34:41.278094",
     "exception": false,
     "start_time": "2023-07-05T14:34:41.257270",
     "status": "completed"
    },
    "tags": []
   },
   "outputs": [],
   "source": [
    "poly = PolynomialFeatures(degree=3)\n",
    "X_multi_trans = poly.fit_transform(X_multi)"
   ]
  },
  {
   "cell_type": "code",
   "execution_count": 27,
   "id": "362bd1a4",
   "metadata": {
    "execution": {
     "iopub.execute_input": "2023-07-05T14:34:41.303534Z",
     "iopub.status.busy": "2023-07-05T14:34:41.303167Z",
     "iopub.status.idle": "2023-07-05T14:34:41.309077Z",
     "shell.execute_reply": "2023-07-05T14:34:41.308024Z"
    },
    "papermill": {
     "duration": 0.021025,
     "end_time": "2023-07-05T14:34:41.311167",
     "exception": false,
     "start_time": "2023-07-05T14:34:41.290142",
     "status": "completed"
    },
    "tags": []
   },
   "outputs": [
    {
     "name": "stdout",
     "output_type": "stream",
     "text": [
      "Ouput 10\n",
      "Powers\n",
      " [[0 0]\n",
      " [1 0]\n",
      " [0 1]\n",
      " [2 0]\n",
      " [1 1]\n",
      " [0 2]\n",
      " [3 0]\n",
      " [2 1]\n",
      " [1 2]\n",
      " [0 3]]\n"
     ]
    }
   ],
   "source": [
    "\n",
    "print(\"Ouput\",poly.n_output_features_)\n",
    "print(\"Powers\\n\",poly.powers_)"
   ]
  },
  {
   "cell_type": "code",
   "execution_count": 28,
   "id": "8c1c096f",
   "metadata": {
    "execution": {
     "iopub.execute_input": "2023-07-05T14:34:41.336895Z",
     "iopub.status.busy": "2023-07-05T14:34:41.336503Z",
     "iopub.status.idle": "2023-07-05T14:34:41.342718Z",
     "shell.execute_reply": "2023-07-05T14:34:41.341727Z"
    },
    "papermill": {
     "duration": 0.021635,
     "end_time": "2023-07-05T14:34:41.344956",
     "exception": false,
     "start_time": "2023-07-05T14:34:41.323321",
     "status": "completed"
    },
    "tags": []
   },
   "outputs": [
    {
     "data": {
      "text/plain": [
       "(100, 10)"
      ]
     },
     "execution_count": 28,
     "metadata": {},
     "output_type": "execute_result"
    }
   ],
   "source": [
    "X_multi_trans.shape"
   ]
  },
  {
   "cell_type": "code",
   "execution_count": 29,
   "id": "58a22752",
   "metadata": {
    "execution": {
     "iopub.execute_input": "2023-07-05T14:34:41.371740Z",
     "iopub.status.busy": "2023-07-05T14:34:41.371093Z",
     "iopub.status.idle": "2023-07-05T14:34:41.379871Z",
     "shell.execute_reply": "2023-07-05T14:34:41.378915Z"
    },
    "papermill": {
     "duration": 0.024799,
     "end_time": "2023-07-05T14:34:41.382045",
     "exception": false,
     "start_time": "2023-07-05T14:34:41.357246",
     "status": "completed"
    },
    "tags": []
   },
   "outputs": [
    {
     "data": {
      "text/html": [
       "<style>#sk-container-id-3 {color: black;background-color: white;}#sk-container-id-3 pre{padding: 0;}#sk-container-id-3 div.sk-toggleable {background-color: white;}#sk-container-id-3 label.sk-toggleable__label {cursor: pointer;display: block;width: 100%;margin-bottom: 0;padding: 0.3em;box-sizing: border-box;text-align: center;}#sk-container-id-3 label.sk-toggleable__label-arrow:before {content: \"▸\";float: left;margin-right: 0.25em;color: #696969;}#sk-container-id-3 label.sk-toggleable__label-arrow:hover:before {color: black;}#sk-container-id-3 div.sk-estimator:hover label.sk-toggleable__label-arrow:before {color: black;}#sk-container-id-3 div.sk-toggleable__content {max-height: 0;max-width: 0;overflow: hidden;text-align: left;background-color: #f0f8ff;}#sk-container-id-3 div.sk-toggleable__content pre {margin: 0.2em;color: black;border-radius: 0.25em;background-color: #f0f8ff;}#sk-container-id-3 input.sk-toggleable__control:checked~div.sk-toggleable__content {max-height: 200px;max-width: 100%;overflow: auto;}#sk-container-id-3 input.sk-toggleable__control:checked~label.sk-toggleable__label-arrow:before {content: \"▾\";}#sk-container-id-3 div.sk-estimator input.sk-toggleable__control:checked~label.sk-toggleable__label {background-color: #d4ebff;}#sk-container-id-3 div.sk-label input.sk-toggleable__control:checked~label.sk-toggleable__label {background-color: #d4ebff;}#sk-container-id-3 input.sk-hidden--visually {border: 0;clip: rect(1px 1px 1px 1px);clip: rect(1px, 1px, 1px, 1px);height: 1px;margin: -1px;overflow: hidden;padding: 0;position: absolute;width: 1px;}#sk-container-id-3 div.sk-estimator {font-family: monospace;background-color: #f0f8ff;border: 1px dotted black;border-radius: 0.25em;box-sizing: border-box;margin-bottom: 0.5em;}#sk-container-id-3 div.sk-estimator:hover {background-color: #d4ebff;}#sk-container-id-3 div.sk-parallel-item::after {content: \"\";width: 100%;border-bottom: 1px solid gray;flex-grow: 1;}#sk-container-id-3 div.sk-label:hover label.sk-toggleable__label {background-color: #d4ebff;}#sk-container-id-3 div.sk-serial::before {content: \"\";position: absolute;border-left: 1px solid gray;box-sizing: border-box;top: 0;bottom: 0;left: 50%;z-index: 0;}#sk-container-id-3 div.sk-serial {display: flex;flex-direction: column;align-items: center;background-color: white;padding-right: 0.2em;padding-left: 0.2em;position: relative;}#sk-container-id-3 div.sk-item {position: relative;z-index: 1;}#sk-container-id-3 div.sk-parallel {display: flex;align-items: stretch;justify-content: center;background-color: white;position: relative;}#sk-container-id-3 div.sk-item::before, #sk-container-id-3 div.sk-parallel-item::before {content: \"\";position: absolute;border-left: 1px solid gray;box-sizing: border-box;top: 0;bottom: 0;left: 50%;z-index: -1;}#sk-container-id-3 div.sk-parallel-item {display: flex;flex-direction: column;z-index: 1;position: relative;background-color: white;}#sk-container-id-3 div.sk-parallel-item:first-child::after {align-self: flex-end;width: 50%;}#sk-container-id-3 div.sk-parallel-item:last-child::after {align-self: flex-start;width: 50%;}#sk-container-id-3 div.sk-parallel-item:only-child::after {width: 0;}#sk-container-id-3 div.sk-dashed-wrapped {border: 1px dashed gray;margin: 0 0.4em 0.5em 0.4em;box-sizing: border-box;padding-bottom: 0.4em;background-color: white;}#sk-container-id-3 div.sk-label label {font-family: monospace;font-weight: bold;display: inline-block;line-height: 1.2em;}#sk-container-id-3 div.sk-label-container {text-align: center;}#sk-container-id-3 div.sk-container {/* jupyter's `normalize.less` sets `[hidden] { display: none; }` but bootstrap.min.css set `[hidden] { display: none !important; }` so we also need the `!important` here to be able to override the default hidden behavior on the sphinx rendered scikit-learn.org. See: https://github.com/scikit-learn/scikit-learn/issues/21755 */display: inline-block !important;position: relative;}#sk-container-id-3 div.sk-text-repr-fallback {display: none;}</style><div id=\"sk-container-id-3\" class=\"sk-top-container\"><div class=\"sk-text-repr-fallback\"><pre>LinearRegression()</pre><b>In a Jupyter environment, please rerun this cell to show the HTML representation or trust the notebook. <br />On GitHub, the HTML representation is unable to render, please try loading this page with nbviewer.org.</b></div><div class=\"sk-container\" hidden><div class=\"sk-item\"><div class=\"sk-estimator sk-toggleable\"><input class=\"sk-toggleable__control sk-hidden--visually\" id=\"sk-estimator-id-3\" type=\"checkbox\" checked><label for=\"sk-estimator-id-3\" class=\"sk-toggleable__label sk-toggleable__label-arrow\">LinearRegression</label><div class=\"sk-toggleable__content\"><pre>LinearRegression()</pre></div></div></div></div></div>"
      ],
      "text/plain": [
       "LinearRegression()"
      ]
     },
     "execution_count": 29,
     "metadata": {},
     "output_type": "execute_result"
    }
   ],
   "source": [
    "lr = LinearRegression()\n",
    "lr.fit(X_multi_trans,z)"
   ]
  },
  {
   "cell_type": "code",
   "execution_count": 30,
   "id": "f2d7bc83",
   "metadata": {
    "execution": {
     "iopub.execute_input": "2023-07-05T14:34:41.408549Z",
     "iopub.status.busy": "2023-07-05T14:34:41.408171Z",
     "iopub.status.idle": "2023-07-05T14:34:41.414025Z",
     "shell.execute_reply": "2023-07-05T14:34:41.412770Z"
    },
    "papermill": {
     "duration": 0.02123,
     "end_time": "2023-07-05T14:34:41.415993",
     "exception": false,
     "start_time": "2023-07-05T14:34:41.394763",
     "status": "completed"
    },
    "tags": []
   },
   "outputs": [],
   "source": [
    "X_test_multi = poly.transform(final)\n",
    "z_final = lr.predict(X_multi_trans).reshape(10,10)"
   ]
  },
  {
   "cell_type": "code",
   "execution_count": 31,
   "id": "79a95577",
   "metadata": {
    "execution": {
     "iopub.execute_input": "2023-07-05T14:34:41.443010Z",
     "iopub.status.busy": "2023-07-05T14:34:41.442267Z",
     "iopub.status.idle": "2023-07-05T14:34:41.505393Z",
     "shell.execute_reply": "2023-07-05T14:34:41.504466Z"
    },
    "papermill": {
     "duration": 0.078971,
     "end_time": "2023-07-05T14:34:41.507671",
     "exception": false,
     "start_time": "2023-07-05T14:34:41.428700",
     "status": "completed"
    },
    "tags": []
   },
   "outputs": [
    {
     "data": {
      "text/html": [
       "<div>                            <div id=\"d67fc232-7f56-47db-b1d5-e3a2f898aeba\" class=\"plotly-graph-div\" style=\"height:525px; width:100%;\"></div>            <script type=\"text/javascript\">                require([\"plotly\"], function(Plotly) {                    window.PLOTLYENV=window.PLOTLYENV || {};                                    if (document.getElementById(\"d67fc232-7f56-47db-b1d5-e3a2f898aeba\")) {                    Plotly.newPlot(                        \"d67fc232-7f56-47db-b1d5-e3a2f898aeba\",                        [{\"hovertemplate\":\"x=%{x}<br>y=%{y}<br>z=%{z}<extra></extra>\",\"legendgroup\":\"\",\"marker\":{\"color\":\"#636efa\",\"symbol\":\"circle\"},\"mode\":\"markers\",\"name\":\"\",\"scene\":\"scene\",\"showlegend\":false,\"x\":[2.076089761244436,2.4595023749357887,2.9795545625516517,3.3561268753661437,1.150213560451924,-1.8371718605054954,-0.07392725487413898,0.016064165807904818,0.8401416272128732,-2.72251640873958,3.7817697545363105,2.3583650791230566,2.4692044141883454,3.2956490197103943,-1.144034468693805,-0.5318663395218124,1.761587590850608,0.33965722829946676,0.36819189661345186,0.37954205212592695,2.662047791702209,4.008746328121771,-1.1076113606196332,0.08653504123179045,1.0025627119471032,3.5728219035611666,3.1958070385728163,0.6550556889595427,-2.530563278003912,-2.632432960744345,-2.7954444404779886,-1.8979974734316662,2.9315971737581874,-2.2921198221985586,-1.386942311117833,1.3199036380707696,-0.2701469148579707,1.5981535819785053,-0.030399305266971766,3.6420096642007938,-1.0454238618746707,-0.7083355853843605,4.043236215258026,-0.2326072938701711,-2.198939811634774,3.0773258703776927,-1.3241785692151193,-1.7052328923999849,1.7350565009658467,1.9508965105216935,3.634131263963167,1.9883860279978478,-2.1985970646783692,3.528963992195279,-0.8679257342312905,-1.3835376046369867,-0.6319881602459363,3.3742983949669085,3.1426032884441923,-1.331729992098173,0.2052248133978014,0.4191788691869056,-2.2363884799072995,-2.491502060742074,-1.418500557447953,0.7544356869097495,2.9645835147106325,3.112773845666438,-2.022491533683109,-0.5238296967194405,3.6811569749622866,-0.37686327809785425,3.878405862141297,0.5475704427279342,0.11041735411029485,2.4329603684658414,2.8454107922714638,-1.6797994565379197,-2.032008701757881,-0.026551976050561255,2.0360006771356307,-1.4069490192385974,1.196926656822101,-1.4850767892080285,3.955308222297849,-0.14517474095748506,0.6043615527968589,-0.209060788675008,-0.6525139465805054,-1.1074729137509212,1.268892888682088,2.558748751919155,2.0787442331571206,-2.7162059783072965,3.3386346034071632,-0.5674824896089854,2.052663255312111,2.363054114515097,2.2443421362027847,0.11572836041782963],\"y\":[-1.884617981196954,4.138904596770381,1.140974441625974,2.738472830135387,-0.22691472274879843,3.112503924046959,0.7052303021999355,-2.362035370678187,1.3603819679169264,-1.2673857254771077,1.3953618200357951,-2.3341877074387005,-0.7723483839840899,-1.5743127194119975,0.8557274687549867,3.4594481014069887,0.939626117305941,-0.8238683515866931,-0.2527000933946142,1.1457306668133223,-1.3017008848755665,-1.8694210199763166,-1.824622064011617,3.6593034681235945,0.905645593578309,-1.0643587675731063,3.329543879309928,-0.31757902480409017,-1.1772139389594871,-0.1461119672464828,0.10817145837444775,-2.2348099152533205,3.6888247602215634,2.7160317167522017,-2.686951371397574,2.592817337668426,-1.5338825859860143,0.5433016177087042,3.427037388688052,2.7454163747631126,3.857792483342145,-2.541133542659594,1.1983352421027273,1.2048180396385826,-0.5396084016053257,4.129911121732679,2.670253899136232,1.0043777575718549,1.964359580489143,-0.37506557006408325,3.568185211302308,2.170472361427443,-1.010859113706021,0.82196714862412,0.9815341889399312,3.832377275381213,-2.4463698288159197,3.913500711212407,4.147711031534338,1.955504843695178,-2.7722033934615045,3.6328456692884803,-1.8369369637783253,1.1365894145317843,1.809926730956077,3.0835488174021455,1.8542371398892659,0.4894206293067245,3.849795745832173,3.733939466428324,2.630672439000393,1.2827042688949453,-0.7635012809607367,0.6717206921144281,2.5648336434403083,-1.5992467002899953,0.6597311093203788,0.4267641223617904,3.9613059819935597,1.318877156711971,-1.560099143305062,2.09405974686093,-2.500000902827609,3.588450372559092,2.6370688250538246,-2.1291048841460256,-1.985261622381527,1.1230170277402127,3.1407213954049915,-0.17117805006746645,1.3058861001938435,-2.1585688505311027,-0.5850815981885344,2.792400591615804,0.10518454700600843,1.1029535414648963,2.246519321056314,2.8269379779229267,-1.4808080535021637,-0.5467670980590444],\"z\":[8.348652693868505,26.82471306950758,14.20300255811084,21.675193994904916,4.191654638116294,14.585109464876409,1.7343945629531805,7.0933350176440015,6.042236575883532,9.687551311102277,18.549751704682166,11.45560346581942,8.244781471112407,14.803138826172821,4.212962417956249,15.050279734960137,6.742259405281448,3.6571031459154106,1.0384794482716366,4.006560337504615,11.759009515630826,21.73046187717999,6.831286651204453,15.388695553484249,2.9671648080037034,17.209511857157448,25.834969412647045,2.825429760476214,8.864379978799949,9.24473468932864,9.241619664409066,9.528738742825393,26.567696250556427,13.95408825445006,12.752812387308358,11.502698776874572,3.9445428768861674,5.472851869835958,15.556353953922319,26.463519883523606,18.09660449773355,7.86236287343835,22.64580142245109,3.0213275012412555,6.607594054791674,32.28387904617196,10.557355269433643,6.551052995526267,10.200927392138473,6.794446542707391,30.0704241633893,11.440776389893262,6.491790986215534,17.280044311905677,3.7314275680408557,16.54105030976556,8.819685988666503,31.52635864159783,30.451722963025052,7.4296041201647025,8.95453033149805,15.510683481097903,10.457502934740573,9.493630692528534,5.21103600009152,12.477930285193423,17.04542675640458,14.02612838071336,20.173215485655902,15.771172135281901,25.081728988018053,4.674925303328143,17.146682718104817,3.4839526045955007,8.482722669558155,10.522955462697436,12.069146219023377,5.373824290888631,21.14463581553699,3.691749728843396,8.895611852827589,7.637442000868983,9.182844436221053,17.67845130804094,25.822056814259057,5.152795759132526,5.665508286884702,2.0122367056373127,13.484509579692787,0.2701708258971256,6.385400214819993,12.689196952128057,6.510808668720981,17.710664121682882,13.292998623305152,2.9843858496275706,11.70016011418997,19.888469982955947,9.026971856869933,1.8853874203815626],\"type\":\"scatter3d\"},{\"x\":[-2.7954444404779886,-2.035591034285098,-1.2757376280922075,-0.5158842218993169,0.24396918429357362,1.0038225904864642,1.7636759966793547,2.5235294028722453,3.283382809065136,4.043236215258026],\"y\":[-2.7722033934615045,-2.0033240129064107,-1.2344446323513172,-0.46556525179622366,0.3033141287588701,1.0721935093139638,1.8410728898690571,2.6099522704241513,3.3788316509792446,4.147711031534338],\"z\":[[9.188172258183185,16.004129325762644,10.40316860755877,10.342572167033378,7.47908805591136,12.392067934080021,14.195717037772804,12.530924634773921,8.649337804562322,9.290941482235032],[21.549899250841257,12.127849918104326,13.951048640876733,9.531677442770526,6.504468989389772,12.170065638987356,13.53269271494926,11.451563814525892,8.980986579194955,13.971868956220534],[12.3358284746433,13.353544168245124,14.008127363595417,11.105443596267577,7.816837262538925,10.791836336157832,15.352048652182127,11.426498330473907,12.710362288895148,13.468781417561305],[9.434107909319335,7.551851305835765,12.138628784619037,14.110327309728106,14.42868414199729,12.696430970812852,11.219083872790813,9.038193222547418,13.180464319535828,14.439458684493108],[11.457279759758983,10.681612461694286,12.873711147590438,9.881365673382938,11.542580886814838,8.956827838258238,10.250851487680535,12.32732205769957,8.871426959875372,9.263036654614444],[18.144469208463303,9.522434217725792,11.272576785718375,8.774066978975558,10.75528289071222,9.799477761504889,10.940279914265826,13.048941954807177,10.401978315879417,9.249847696358572],[10.489730179494453,15.335646146741997,10.557022304292815,11.717922490442415,12.458754971735342,8.769973527482227,13.796121410740088,14.537715241689746,12.668203216624502,13.13598182105309],[17.022825171512686,7.668596795826249,17.586214817669195,8.364189637680239,9.993852791074977,11.102238068685972,11.094319716320378,16.00394950300533,17.44541267221693,12.293262450624898],[16.77208397419067,12.808296587114384,11.64118486950168,8.4293542096706,23.013834267530417,8.173318504437226,10.74160499178313,12.485285728525813,8.925803968174403,10.86793468282874],[11.50557189993903,16.10408222169729,12.75384304118503,13.236202668843777,11.00520123354859,10.062869183251811,10.579632063881068,8.740108676935437,10.899006067841526,13.203917211841533]],\"type\":\"surface\"}],                        {\"template\":{\"data\":{\"histogram2dcontour\":[{\"type\":\"histogram2dcontour\",\"colorbar\":{\"outlinewidth\":0,\"ticks\":\"\"},\"colorscale\":[[0.0,\"#0d0887\"],[0.1111111111111111,\"#46039f\"],[0.2222222222222222,\"#7201a8\"],[0.3333333333333333,\"#9c179e\"],[0.4444444444444444,\"#bd3786\"],[0.5555555555555556,\"#d8576b\"],[0.6666666666666666,\"#ed7953\"],[0.7777777777777778,\"#fb9f3a\"],[0.8888888888888888,\"#fdca26\"],[1.0,\"#f0f921\"]]}],\"choropleth\":[{\"type\":\"choropleth\",\"colorbar\":{\"outlinewidth\":0,\"ticks\":\"\"}}],\"histogram2d\":[{\"type\":\"histogram2d\",\"colorbar\":{\"outlinewidth\":0,\"ticks\":\"\"},\"colorscale\":[[0.0,\"#0d0887\"],[0.1111111111111111,\"#46039f\"],[0.2222222222222222,\"#7201a8\"],[0.3333333333333333,\"#9c179e\"],[0.4444444444444444,\"#bd3786\"],[0.5555555555555556,\"#d8576b\"],[0.6666666666666666,\"#ed7953\"],[0.7777777777777778,\"#fb9f3a\"],[0.8888888888888888,\"#fdca26\"],[1.0,\"#f0f921\"]]}],\"heatmap\":[{\"type\":\"heatmap\",\"colorbar\":{\"outlinewidth\":0,\"ticks\":\"\"},\"colorscale\":[[0.0,\"#0d0887\"],[0.1111111111111111,\"#46039f\"],[0.2222222222222222,\"#7201a8\"],[0.3333333333333333,\"#9c179e\"],[0.4444444444444444,\"#bd3786\"],[0.5555555555555556,\"#d8576b\"],[0.6666666666666666,\"#ed7953\"],[0.7777777777777778,\"#fb9f3a\"],[0.8888888888888888,\"#fdca26\"],[1.0,\"#f0f921\"]]}],\"heatmapgl\":[{\"type\":\"heatmapgl\",\"colorbar\":{\"outlinewidth\":0,\"ticks\":\"\"},\"colorscale\":[[0.0,\"#0d0887\"],[0.1111111111111111,\"#46039f\"],[0.2222222222222222,\"#7201a8\"],[0.3333333333333333,\"#9c179e\"],[0.4444444444444444,\"#bd3786\"],[0.5555555555555556,\"#d8576b\"],[0.6666666666666666,\"#ed7953\"],[0.7777777777777778,\"#fb9f3a\"],[0.8888888888888888,\"#fdca26\"],[1.0,\"#f0f921\"]]}],\"contourcarpet\":[{\"type\":\"contourcarpet\",\"colorbar\":{\"outlinewidth\":0,\"ticks\":\"\"}}],\"contour\":[{\"type\":\"contour\",\"colorbar\":{\"outlinewidth\":0,\"ticks\":\"\"},\"colorscale\":[[0.0,\"#0d0887\"],[0.1111111111111111,\"#46039f\"],[0.2222222222222222,\"#7201a8\"],[0.3333333333333333,\"#9c179e\"],[0.4444444444444444,\"#bd3786\"],[0.5555555555555556,\"#d8576b\"],[0.6666666666666666,\"#ed7953\"],[0.7777777777777778,\"#fb9f3a\"],[0.8888888888888888,\"#fdca26\"],[1.0,\"#f0f921\"]]}],\"surface\":[{\"type\":\"surface\",\"colorbar\":{\"outlinewidth\":0,\"ticks\":\"\"},\"colorscale\":[[0.0,\"#0d0887\"],[0.1111111111111111,\"#46039f\"],[0.2222222222222222,\"#7201a8\"],[0.3333333333333333,\"#9c179e\"],[0.4444444444444444,\"#bd3786\"],[0.5555555555555556,\"#d8576b\"],[0.6666666666666666,\"#ed7953\"],[0.7777777777777778,\"#fb9f3a\"],[0.8888888888888888,\"#fdca26\"],[1.0,\"#f0f921\"]]}],\"mesh3d\":[{\"type\":\"mesh3d\",\"colorbar\":{\"outlinewidth\":0,\"ticks\":\"\"}}],\"scatter\":[{\"fillpattern\":{\"fillmode\":\"overlay\",\"size\":10,\"solidity\":0.2},\"type\":\"scatter\"}],\"parcoords\":[{\"type\":\"parcoords\",\"line\":{\"colorbar\":{\"outlinewidth\":0,\"ticks\":\"\"}}}],\"scatterpolargl\":[{\"type\":\"scatterpolargl\",\"marker\":{\"colorbar\":{\"outlinewidth\":0,\"ticks\":\"\"}}}],\"bar\":[{\"error_x\":{\"color\":\"#2a3f5f\"},\"error_y\":{\"color\":\"#2a3f5f\"},\"marker\":{\"line\":{\"color\":\"#E5ECF6\",\"width\":0.5},\"pattern\":{\"fillmode\":\"overlay\",\"size\":10,\"solidity\":0.2}},\"type\":\"bar\"}],\"scattergeo\":[{\"type\":\"scattergeo\",\"marker\":{\"colorbar\":{\"outlinewidth\":0,\"ticks\":\"\"}}}],\"scatterpolar\":[{\"type\":\"scatterpolar\",\"marker\":{\"colorbar\":{\"outlinewidth\":0,\"ticks\":\"\"}}}],\"histogram\":[{\"marker\":{\"pattern\":{\"fillmode\":\"overlay\",\"size\":10,\"solidity\":0.2}},\"type\":\"histogram\"}],\"scattergl\":[{\"type\":\"scattergl\",\"marker\":{\"colorbar\":{\"outlinewidth\":0,\"ticks\":\"\"}}}],\"scatter3d\":[{\"type\":\"scatter3d\",\"line\":{\"colorbar\":{\"outlinewidth\":0,\"ticks\":\"\"}},\"marker\":{\"colorbar\":{\"outlinewidth\":0,\"ticks\":\"\"}}}],\"scattermapbox\":[{\"type\":\"scattermapbox\",\"marker\":{\"colorbar\":{\"outlinewidth\":0,\"ticks\":\"\"}}}],\"scatterternary\":[{\"type\":\"scatterternary\",\"marker\":{\"colorbar\":{\"outlinewidth\":0,\"ticks\":\"\"}}}],\"scattercarpet\":[{\"type\":\"scattercarpet\",\"marker\":{\"colorbar\":{\"outlinewidth\":0,\"ticks\":\"\"}}}],\"carpet\":[{\"aaxis\":{\"endlinecolor\":\"#2a3f5f\",\"gridcolor\":\"white\",\"linecolor\":\"white\",\"minorgridcolor\":\"white\",\"startlinecolor\":\"#2a3f5f\"},\"baxis\":{\"endlinecolor\":\"#2a3f5f\",\"gridcolor\":\"white\",\"linecolor\":\"white\",\"minorgridcolor\":\"white\",\"startlinecolor\":\"#2a3f5f\"},\"type\":\"carpet\"}],\"table\":[{\"cells\":{\"fill\":{\"color\":\"#EBF0F8\"},\"line\":{\"color\":\"white\"}},\"header\":{\"fill\":{\"color\":\"#C8D4E3\"},\"line\":{\"color\":\"white\"}},\"type\":\"table\"}],\"barpolar\":[{\"marker\":{\"line\":{\"color\":\"#E5ECF6\",\"width\":0.5},\"pattern\":{\"fillmode\":\"overlay\",\"size\":10,\"solidity\":0.2}},\"type\":\"barpolar\"}],\"pie\":[{\"automargin\":true,\"type\":\"pie\"}]},\"layout\":{\"autotypenumbers\":\"strict\",\"colorway\":[\"#636efa\",\"#EF553B\",\"#00cc96\",\"#ab63fa\",\"#FFA15A\",\"#19d3f3\",\"#FF6692\",\"#B6E880\",\"#FF97FF\",\"#FECB52\"],\"font\":{\"color\":\"#2a3f5f\"},\"hovermode\":\"closest\",\"hoverlabel\":{\"align\":\"left\"},\"paper_bgcolor\":\"white\",\"plot_bgcolor\":\"#E5ECF6\",\"polar\":{\"bgcolor\":\"#E5ECF6\",\"angularaxis\":{\"gridcolor\":\"white\",\"linecolor\":\"white\",\"ticks\":\"\"},\"radialaxis\":{\"gridcolor\":\"white\",\"linecolor\":\"white\",\"ticks\":\"\"}},\"ternary\":{\"bgcolor\":\"#E5ECF6\",\"aaxis\":{\"gridcolor\":\"white\",\"linecolor\":\"white\",\"ticks\":\"\"},\"baxis\":{\"gridcolor\":\"white\",\"linecolor\":\"white\",\"ticks\":\"\"},\"caxis\":{\"gridcolor\":\"white\",\"linecolor\":\"white\",\"ticks\":\"\"}},\"coloraxis\":{\"colorbar\":{\"outlinewidth\":0,\"ticks\":\"\"}},\"colorscale\":{\"sequential\":[[0.0,\"#0d0887\"],[0.1111111111111111,\"#46039f\"],[0.2222222222222222,\"#7201a8\"],[0.3333333333333333,\"#9c179e\"],[0.4444444444444444,\"#bd3786\"],[0.5555555555555556,\"#d8576b\"],[0.6666666666666666,\"#ed7953\"],[0.7777777777777778,\"#fb9f3a\"],[0.8888888888888888,\"#fdca26\"],[1.0,\"#f0f921\"]],\"sequentialminus\":[[0.0,\"#0d0887\"],[0.1111111111111111,\"#46039f\"],[0.2222222222222222,\"#7201a8\"],[0.3333333333333333,\"#9c179e\"],[0.4444444444444444,\"#bd3786\"],[0.5555555555555556,\"#d8576b\"],[0.6666666666666666,\"#ed7953\"],[0.7777777777777778,\"#fb9f3a\"],[0.8888888888888888,\"#fdca26\"],[1.0,\"#f0f921\"]],\"diverging\":[[0,\"#8e0152\"],[0.1,\"#c51b7d\"],[0.2,\"#de77ae\"],[0.3,\"#f1b6da\"],[0.4,\"#fde0ef\"],[0.5,\"#f7f7f7\"],[0.6,\"#e6f5d0\"],[0.7,\"#b8e186\"],[0.8,\"#7fbc41\"],[0.9,\"#4d9221\"],[1,\"#276419\"]]},\"xaxis\":{\"gridcolor\":\"white\",\"linecolor\":\"white\",\"ticks\":\"\",\"title\":{\"standoff\":15},\"zerolinecolor\":\"white\",\"automargin\":true,\"zerolinewidth\":2},\"yaxis\":{\"gridcolor\":\"white\",\"linecolor\":\"white\",\"ticks\":\"\",\"title\":{\"standoff\":15},\"zerolinecolor\":\"white\",\"automargin\":true,\"zerolinewidth\":2},\"scene\":{\"xaxis\":{\"backgroundcolor\":\"#E5ECF6\",\"gridcolor\":\"white\",\"linecolor\":\"white\",\"showbackground\":true,\"ticks\":\"\",\"zerolinecolor\":\"white\",\"gridwidth\":2},\"yaxis\":{\"backgroundcolor\":\"#E5ECF6\",\"gridcolor\":\"white\",\"linecolor\":\"white\",\"showbackground\":true,\"ticks\":\"\",\"zerolinecolor\":\"white\",\"gridwidth\":2},\"zaxis\":{\"backgroundcolor\":\"#E5ECF6\",\"gridcolor\":\"white\",\"linecolor\":\"white\",\"showbackground\":true,\"ticks\":\"\",\"zerolinecolor\":\"white\",\"gridwidth\":2}},\"shapedefaults\":{\"line\":{\"color\":\"#2a3f5f\"}},\"annotationdefaults\":{\"arrowcolor\":\"#2a3f5f\",\"arrowhead\":0,\"arrowwidth\":1},\"geo\":{\"bgcolor\":\"white\",\"landcolor\":\"#E5ECF6\",\"subunitcolor\":\"white\",\"showland\":true,\"showlakes\":true,\"lakecolor\":\"white\"},\"title\":{\"x\":0.05},\"mapbox\":{\"style\":\"light\"}}},\"scene\":{\"domain\":{\"x\":[0.0,1.0],\"y\":[0.0,1.0]},\"xaxis\":{\"title\":{\"text\":\"x\"}},\"yaxis\":{\"title\":{\"text\":\"y\"}},\"zaxis\":{\"title\":{\"text\":\"z\"},\"range\":[0,35]}},\"legend\":{\"tracegroupgap\":0},\"margin\":{\"t\":60}},                        {\"responsive\": true}                    ).then(function(){\n",
       "                            \n",
       "var gd = document.getElementById('d67fc232-7f56-47db-b1d5-e3a2f898aeba');\n",
       "var x = new MutationObserver(function (mutations, observer) {{\n",
       "        var display = window.getComputedStyle(gd).display;\n",
       "        if (!display || display === 'none') {{\n",
       "            console.log([gd, 'removed!']);\n",
       "            Plotly.purge(gd);\n",
       "            observer.disconnect();\n",
       "        }}\n",
       "}});\n",
       "\n",
       "// Listen for the removal of the full notebook cells\n",
       "var notebookContainer = gd.closest('#notebook-container');\n",
       "if (notebookContainer) {{\n",
       "    x.observe(notebookContainer, {childList: true});\n",
       "}}\n",
       "\n",
       "// Listen for the clearing of the current output cell\n",
       "var outputEl = gd.closest('.output');\n",
       "if (outputEl) {{\n",
       "    x.observe(outputEl, {childList: true});\n",
       "}}\n",
       "\n",
       "                        })                };                });            </script>        </div>"
      ]
     },
     "metadata": {},
     "output_type": "display_data"
    }
   ],
   "source": [
    "fig = px.scatter_3d(x=x.ravel(), y=y.ravel(), z=z.ravel())\n",
    "\n",
    "fig.add_trace(go.Surface(x = x_input, y = y_input, z =z_final))\n",
    "\n",
    "fig.update_layout(scene = dict(zaxis = dict(range=[0,35])))\n",
    "\n",
    "fig.show()"
   ]
  }
 ],
 "metadata": {
  "kernelspec": {
   "display_name": "Python 3",
   "language": "python",
   "name": "python3"
  },
  "language_info": {
   "codemirror_mode": {
    "name": "ipython",
    "version": 3
   },
   "file_extension": ".py",
   "mimetype": "text/x-python",
   "name": "python",
   "nbconvert_exporter": "python",
   "pygments_lexer": "ipython3",
   "version": "3.10.10"
  },
  "papermill": {
   "default_parameters": {},
   "duration": 17.6693,
   "end_time": "2023-07-05T14:34:42.542692",
   "environment_variables": {},
   "exception": null,
   "input_path": "__notebook__.ipynb",
   "output_path": "__notebook__.ipynb",
   "parameters": {},
   "start_time": "2023-07-05T14:34:24.873392",
   "version": "2.4.0"
  }
 },
 "nbformat": 4,
 "nbformat_minor": 5
}
